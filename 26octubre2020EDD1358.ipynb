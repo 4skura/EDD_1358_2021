{
  "nbformat": 4,
  "nbformat_minor": 0,
  "metadata": {
    "colab": {
      "name": "26octubre2020EDD1358.ipynb",
      "provenance": [],
      "authorship_tag": "ABX9TyPJI/LeJXew8w/fWya24eVi",
      "include_colab_link": true
    },
    "kernelspec": {
      "name": "python3",
      "display_name": "Python 3"
    }
  },
  "cells": [
    {
      "cell_type": "markdown",
      "metadata": {
        "id": "view-in-github",
        "colab_type": "text"
      },
      "source": [
        "<a href=\"https://colab.research.google.com/github/4skura/EDD_1358_2021/blob/master/26octubre2020EDD1358.ipynb\" target=\"_parent\"><img src=\"https://colab.research.google.com/assets/colab-badge.svg\" alt=\"Open In Colab\"/></a>"
      ]
    },
    {
      "cell_type": "code",
      "metadata": {
        "id": "iceiJ_ECqwND",
        "outputId": "82bd363f-120e-4c33-86b6-65fd48aba270",
        "colab": {
          "base_uri": "https://localhost:8080/",
          "height": 34
        }
      },
      "source": [
        "\"\"\"\n",
        "ARRAY\n",
        "\"\"\"\n",
        "class Array:\n",
        "  def __init__(self,tam):\n",
        "    #uso de un generador para llenar el arreglo con Ceros\n",
        "    self.__datos=[0 for x in range(tam)]\n",
        "\n",
        "  def get_item(self,index ):\n",
        "    return self.__datos[index]\n",
        "\n",
        "mi_arreglo= Array(10)\n",
        "print(mi_arreglo.get_item(2))\n"
      ],
      "execution_count": 1,
      "outputs": [
        {
          "output_type": "stream",
          "text": [
            "0\n"
          ],
          "name": "stdout"
        }
      ]
    }
  ]
}