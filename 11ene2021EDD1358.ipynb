{
  "nbformat": 4,
  "nbformat_minor": 0,
  "metadata": {
    "colab": {
      "name": "11ene2021EDD1358.ipynb",
      "provenance": [],
      "authorship_tag": "ABX9TyOI9YYTeUc6urrtA3qrmyRN",
      "include_colab_link": true
    },
    "kernelspec": {
      "name": "python3",
      "display_name": "Python 3"
    }
  },
  "cells": [
    {
      "cell_type": "markdown",
      "metadata": {
        "id": "view-in-github",
        "colab_type": "text"
      },
      "source": [
        "<a href=\"https://colab.research.google.com/github/4skura/EDD_1358_2021/blob/master/11ene2021EDD1358.ipynb\" target=\"_parent\"><img src=\"https://colab.research.google.com/assets/colab-badge.svg\" alt=\"Open In Colab\"/></a>"
      ]
    },
    {
      "cell_type": "code",
      "metadata": {
        "id": "GkGT1dJGNlrt"
      },
      "source": [
        "class NodoArbol:\r\n",
        "  def __init__(self, dato, hijo_izq=None, hijo_der=None):\r\n",
        "    self.dato=dato\r\n",
        "    self.hijo_izq= hijo_izq\r\n",
        "    self.hijo_der= hijo_der"
      ],
      "execution_count": 2,
      "outputs": []
    },
    {
      "cell_type": "code",
      "metadata": {
        "colab": {
          "base_uri": "https://localhost:8080/"
        },
        "id": "OjJxkKeHRHQ2",
        "outputId": "8156577e-f12c-45f1-a12f-baac8474e39c"
      },
      "source": [
        "arbol= NodoArbol('R')\r\n",
        "arbol.hijo_izq= NodoArbol('C')\r\n",
        "arbol.hijo_der=NodoArbol('H')\r\n",
        "\r\n",
        "#imrpimir el valor de nodo raiz\r\n",
        "print(arbol.dato)\r\n",
        "#imrpimir el valor del hijo izq\r\n",
        "print(arbol.hijo_izq.dato)\r\n",
        "#imrpimir el valor del hijo der\r\n",
        "print(arbol.hijo_der.dato)"
      ],
      "execution_count": 6,
      "outputs": [
        {
          "output_type": "stream",
          "text": [
            "R\n",
            "C\n",
            "H\n"
          ],
          "name": "stdout"
        }
      ]
    },
    {
      "cell_type": "code",
      "metadata": {
        "colab": {
          "base_uri": "https://localhost:8080/"
        },
        "id": "sGtcZVU1SuXp",
        "outputId": "c42056e6-2a28-4a89-8f84-15d0809f6499"
      },
      "source": [
        "arbol_v2= NodoArbol('R',NodoArbol('C'),NodoArbol('H'))\r\n",
        "print(arbol_v2.dato)\r\n",
        "print(arbol_v2.hijo_izq.dato)\r\n",
        "print(arbol_v2.hijo_der.dato)"
      ],
      "execution_count": 9,
      "outputs": [
        {
          "output_type": "stream",
          "text": [
            "R\n",
            "C\n",
            "H\n"
          ],
          "name": "stdout"
        }
      ]
    },
    {
      "cell_type": "code",
      "metadata": {
        "colab": {
          "base_uri": "https://localhost:8080/"
        },
        "id": "LCgTYXsvTXHw",
        "outputId": "a07ca64f-475a-4ec0-b46a-6dbdc423e260"
      },
      "source": [
        "#Ejercicio 2\r\n",
        "arbol2= NodoArbol('4',NodoArbol('3',NodoArbol('2',NodoArbol('2'))),NodoArbol('5'))\r\n",
        "print(arbol2.dato)\r\n",
        "print(arbol2.hijo_izq.dato)\r\n",
        "print(arbol2.hijo_der.dato)\r\n",
        "print(arbol2.hijo_izq.hijo_izq.dato)\r\n",
        "print(arbol2.hijo_izq.hijo_izq.hijo_izq.dato)\r\n",
        "\r\n",
        "#imprimir un dato al final de la lista\r\n",
        "print(\"Imprimir el ultimo dato de n dimensiones\")\r\n",
        "aux= arbol2\r\n",
        "while aux.hijo_izq != None:\r\n",
        "  aux= aux.hijo_izq\r\n",
        "print(aux.dato)"
      ],
      "execution_count": 11,
      "outputs": [
        {
          "output_type": "stream",
          "text": [
            "4\n",
            "3\n",
            "5\n",
            "2\n",
            "2\n",
            "Imprimir el ultimo dato de n dimensiones\n",
            "2\n"
          ],
          "name": "stdout"
        }
      ]
    },
    {
      "cell_type": "code",
      "metadata": {
        "id": "jfTNdrJEYxqJ"
      },
      "source": [
        "class NodoArbol:\r\n",
        "  def __init__(self, dato, hijo_izq=None, hijo_central=None, hijo_der=None):\r\n",
        "    self.dato=dato\r\n",
        "    self.hijo_izq= hijo_izq\r\n",
        "    self.hijo_central= hijo_central\r\n",
        "    self.hijo_der= hijo_der"
      ],
      "execution_count": 16,
      "outputs": []
    },
    {
      "cell_type": "code",
      "metadata": {
        "id": "yms0AVecZECZ"
      },
      "source": [
        "arbol3= NodoArbol('R',NodoArbol('I',NodoArbol(None,NodoArbol('X'))),NodoArbol('C', NodoArbol('Y')),NodoArbol('D',None,None,NodoArbol('Z')))\r\n"
      ],
      "execution_count": 17,
      "outputs": []
    }
  ]
}