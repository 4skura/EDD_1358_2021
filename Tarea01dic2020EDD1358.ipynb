{
  "nbformat": 4,
  "nbformat_minor": 0,
  "metadata": {
    "colab": {
      "name": "30noviembre2020EDD1358.ipynb",
      "provenance": [],
      "authorship_tag": "ABX9TyNBHMSZRc/iLmMT5WL9Qgmx",
      "include_colab_link": true
    },
    "kernelspec": {
      "name": "python3",
      "display_name": "Python 3"
    }
  },
  "cells": [
    {
      "cell_type": "markdown",
      "metadata": {
        "id": "view-in-github",
        "colab_type": "text"
      },
      "source": [
        "<a href=\"https://colab.research.google.com/github/4skura/EDD_1358_2021/blob/master/Tarea01dic2020EDD1358.ipynb\" target=\"_parent\"><img src=\"https://colab.research.google.com/assets/colab-badge.svg\" alt=\"Open In Colab\"/></a>"
      ]
    },
    {
      "cell_type": "code",
      "metadata": {
        "id": "9h2l-yg78jdt"
      },
      "source": [
        "class Stack:\n",
        "  def __init__(self):\n",
        "    self.__data= []\n",
        "    self.__size= 0\n",
        "\n",
        "  def pop(self):\n",
        "    return self.__data.pop()\n",
        "\n",
        "  def peek(self):\n",
        "    return self.__data[-1]\n",
        "\n",
        "  def push(self, value):\n",
        "    self.__data.append(value)\n",
        "\n",
        "  def to_string(self):\n",
        "    print(\"------\")\n",
        "    for dato in self.__data[::-1]:\n",
        "      print(f\"| {dato} |\")\n",
        "    print(\"------\")\n"
      ],
      "execution_count": 8,
      "outputs": []
    },
    {
      "cell_type": "code",
      "metadata": {
        "colab": {
          "base_uri": "https://localhost:8080/"
        },
        "id": "RF9_b_5SAHbI",
        "outputId": "18623543-a0ab-4584-85c7-d0cb19f569b8"
      },
      "source": [
        "pl= Stack()\n",
        "pl.push(34)\n",
        "pl.push(10)\n",
        "pl.push(45)\n",
        "pl.push(4)\n",
        "pl.push(23)\n",
        "pl.to_string()\n",
        "\n",
        "#agregando datos a la pila\n",
        "print(\"Agregando datos a la pila\")\n",
        "pl.push(33)\n",
        "pl.to_string()\n",
        "\n",
        "#sacando el ultimo dato en pop y guardandolo en una variable\n",
        "print(\"Sacando un dato de la pila\")\n",
        "valor= pl.pop()\n",
        "print(valor * 2)"
      ],
      "execution_count": null,
      "outputs": [
        {
          "output_type": "stream",
          "text": [
            "------\n",
            "| 23 |\n",
            "| 4 |\n",
            "| 45 |\n",
            "| 10 |\n",
            "| 34 |\n",
            "------\n",
            "Agregando datos a la pila\n",
            "------\n",
            "| 33 |\n",
            "| 23 |\n",
            "| 4 |\n",
            "| 45 |\n",
            "| 10 |\n",
            "| 34 |\n",
            "------\n",
            "Sacando un dato de la pila\n",
            "66\n"
          ],
          "name": "stdout"
        }
      ]
    },
    {
      "cell_type": "code",
      "metadata": {
        "colab": {
          "base_uri": "https://localhost:8080/"
        },
        "id": "xR_yNjUEB42u",
        "outputId": "b9c85419-fac2-4b13-b4bb-8e738791bc28"
      },
      "source": [
        "#Aplicaciones de la estructura Stack\n",
        "# 1 Validacion de parentesis balanceados `()`, `{}`, `[]`\n",
        "cadena=\"b=3*(5+(4/2))\"\n",
        "pila= Stack()\n",
        "pila.push(\"#\") #caracter de pila vacia\n",
        "for elem in cadena:\n",
        "  if elem == '(':\n",
        "    pila.push('*')\n",
        "  elif elem == ')':\n",
        "    pila.pop()\n",
        "  else:\n",
        "    pass\n",
        "if pila.peek()== '#':\n",
        "  print(\"La expresion esta balanceada en parentesis\")\n",
        "else:\n",
        "  print(\"La expresion no esta balanceada\")\n"
      ],
      "execution_count": null,
      "outputs": [
        {
          "output_type": "stream",
          "text": [
            "La expresion esta balanceada en parentesis\n"
          ],
          "name": "stdout"
        }
      ]
    },
    {
      "cell_type": "code",
      "metadata": {
        "colab": {
          "base_uri": "https://localhost:8080/"
        },
        "id": "9dtO--3m7wu6",
        "outputId": "997bf0ef-1a9a-40a1-d427-33e33e5265a9"
      },
      "source": [
        "### TAREA ###\n",
        "\n",
        "#Cadena para hacer la prueba\n",
        "cadena= \"a=(2*(2*(2)+2))\"\n",
        "\n",
        "pila= Stack()\n",
        "pila.push(\"#\") #caracter de pila vacia\n",
        "pila_size=1\n",
        "for elem in cadena:\n",
        "  if elem == '(':\n",
        "    pila.push(\"(\")\n",
        "    pila_size += 1\n",
        "    #print(pila_size)\n",
        "  elif elem == ')':\n",
        "      pila.pop()\n",
        "      pila_size -= 1\n",
        "      #print(pila_size)\n",
        "  elif elem == '(':\n",
        "    pila.push(\"(\")\n",
        "  else:\n",
        "    pass\n",
        "if pila_size == 1:\n",
        "  print(\"La expresion SI esta balanceada en parentesis\")\n",
        "else:\n",
        "  if pila_size < 1:\n",
        "    print(\"La expresion NO esta balanceada, hay mas )\")\n",
        "  else:\n",
        "    print(\" La expresion NO esta balanceada, hay mas (\")\n"
      ],
      "execution_count": 37,
      "outputs": [
        {
          "output_type": "stream",
          "text": [
            "La expresion SI esta balanceada en parentesis\n"
          ],
          "name": "stdout"
        }
      ]
    }
  ]
}