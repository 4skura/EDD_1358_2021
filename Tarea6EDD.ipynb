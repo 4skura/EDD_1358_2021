{
  "nbformat": 4,
  "nbformat_minor": 0,
  "metadata": {
    "colab": {
      "name": "Untitled6.ipynb",
      "provenance": [],
      "authorship_tag": "ABX9TyNVldKo0QjLJ3XqYpB431LW",
      "include_colab_link": true
    },
    "kernelspec": {
      "name": "python3",
      "display_name": "Python 3"
    }
  },
  "cells": [
    {
      "cell_type": "markdown",
      "metadata": {
        "id": "view-in-github",
        "colab_type": "text"
      },
      "source": [
        "<a href=\"https://colab.research.google.com/github/4skura/EDD_1358_2021/blob/master/Tarea6EDD.ipynb\" target=\"_parent\"><img src=\"https://colab.research.google.com/assets/colab-badge.svg\" alt=\"Open In Colab\"/></a>"
      ]
    },
    {
      "cell_type": "code",
      "metadata": {
        "id": "7vBnDp09rLpj"
      },
      "source": [
        "class Nodo:\n",
        "    def __init__( self , dato, siguiente=None ):\n",
        "        self.dato = dato\n",
        "        self.siguiente = siguiente\n",
        "\n",
        "class CircularList:\n",
        "  def __init__( self ):\n",
        "    self.__ref = None\n",
        "    self.__size = 0\n",
        "\n",
        "  def is_empty( self ):\n",
        "    return self.__ref == None\n",
        "\n",
        "  def get_size(self):\n",
        "    return self.__size\n",
        "\n",
        "  def transversal( self ):  \n",
        "    curr_node = self.__ref\n",
        "    if curr_node == None:\n",
        "      pass\n",
        "    else: \n",
        "      print(f\"Nodo de referencia ----> { curr_node.dato } --->\", end =\"\")\n",
        "      curr_node = curr_node.siguiente\n",
        "      while curr_node != self.__ref:\n",
        "        print(f\"{ curr_node.dato } --->\", end =\"\")\n",
        "        curr_node = curr_node.siguiente\n",
        "      curr_node = curr_node.siguiente\n",
        "\n",
        "  #insert que ordena los datos de menor a mayor\n",
        "  def insert ( self, value ):\n",
        "    if self.__ref == None:\n",
        "      self.__ref = Nodo( value, self.__ref )\n",
        "    else:\n",
        "      if self.__size == 1:\n",
        "        if value <= self.__ref.dato:\n",
        "          self.__ref.siguiente = Nodo( value, self.__ref)\n",
        "        if value >= self.__ref.dato:\n",
        "          self.__ref.siguiente = Nodo( value, self.__ref)\n",
        "          self.__ref = self.__ref.siguiente\n",
        "      else:\n",
        "        if value <= self.__ref.siguiente.dato or value >= self.__ref.dato:\n",
        "          if value <= self.__ref.siguiente.dato:\n",
        "            self.__ref.siguiente = Nodo( value, self.__ref.siguiente )\n",
        "          if value >= self.__ref.dato:\n",
        "            self.__ref.siguiente = Nodo( value, self.__ref.siguiente )\n",
        "            self.__ref = self.__ref.siguiente\n",
        "        else:\n",
        "            curr_node = self.__ref.siguiente\n",
        "            while curr_node.dato != self.__ref.dato:\n",
        "              if value > curr_node.dato and value < curr_node.siguiente.dato:\n",
        "                curr_node.siguiente = Nodo( value, curr_node.siguiente )\n",
        "              curr_node = curr_node.siguiente\n",
        "    self.__size = self.__size + 1\n",
        "\n",
        "  def search( self, value ):\n",
        "    curr_node = self.__ref\n",
        "    dato = False\n",
        "    if curr_node.dato == value :\n",
        "      dato = True\n",
        "    else:\n",
        "      curr_node = curr_node.siguiente\n",
        "      while curr_node != self.__ref: \n",
        "        if curr_node.dato == value:\n",
        "          Existe = True\n",
        "        curr_node = curr_node.siguiente\n",
        "    return dato\n",
        "\n",
        "  def remove(self, value):\n",
        "    curr_node = self.__ref\n",
        "    while curr_node.siguiente != self.__ref:\n",
        "      if curr_node.siguiente.dato == value:\n",
        "        curr_node.siguiente = curr_node.siguiente.siguiente\n",
        "        self.__size = self.__size - 1\n",
        "      else:\n",
        "        curr_node = curr_node.siguiente\n",
        "    if curr_node.siguiente.dato == value:\n",
        "      curr_node.siguiente = curr_node.siguiente.siguiente\n",
        "      self.__ref = curr_node\n",
        "      self.__size = self.__size - 1"
      ],
      "execution_count": 14,
      "outputs": []
    },
    {
      "cell_type": "code",
      "metadata": {
        "colab": {
          "base_uri": "https://localhost:8080/"
        },
        "id": "-Wfaa6XftNF0",
        "outputId": "b748d91d-82fe-40b3-f5dd-0d0a57c11234"
      },
      "source": [
        "cl= CircularList()\n",
        "cl.insert(1)\n",
        "cl.insert(2)\n",
        "cl.insert(3)\n",
        "cl.insert(5)\n",
        "cl.insert(10)\n",
        "cl.insert(6)\n",
        "cl.transversal()\n",
        "print(f\"\\nEl tamaño de la lista es {cl.get_size()}\")\n",
        "cl.remove(2)\n",
        "cl.remove(3)\n",
        "cl.insert(7)\n",
        "cl.transversal()"
      ],
      "execution_count": 20,
      "outputs": [
        {
          "output_type": "stream",
          "text": [
            "Nodo de referencia ----> 10 --->1 --->2 --->3 --->5 --->6 --->\n",
            "El tamaño de la lista es 6\n",
            "Nodo de referencia ----> 10 --->1 --->5 --->6 --->7 --->"
          ],
          "name": "stdout"
        }
      ]
    }
  ]
}