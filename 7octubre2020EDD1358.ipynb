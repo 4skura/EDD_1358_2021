{
  "nbformat": 4,
  "nbformat_minor": 0,
  "metadata": {
    "colab": {
      "name": "7octubre2020EDD1358.ipynb",
      "provenance": [],
      "authorship_tag": "ABX9TyOfxGhKeNPVTeyw3Wbsmo6e",
      "include_colab_link": true
    },
    "kernelspec": {
      "name": "python3",
      "display_name": "Python 3"
    }
  },
  "cells": [
    {
      "cell_type": "markdown",
      "metadata": {
        "id": "view-in-github",
        "colab_type": "text"
      },
      "source": [
        "<a href=\"https://colab.research.google.com/github/4skura/EDD_1358_2021/blob/master/7octubre2020EDD1358.ipynb\" target=\"_parent\"><img src=\"https://colab.research.google.com/assets/colab-badge.svg\" alt=\"Open In Colab\"/></a>"
      ]
    },
    {
      "cell_type": "code",
      "metadata": {
        "id": "idS1gToxnTRM",
        "outputId": "cdc5ecc9-9aa1-470c-f443-5c858002d1b5",
        "colab": {
          "base_uri": "https://localhost:8080/"
        }
      },
      "source": [
        "#lista de 2 dimensiones\n",
        "autos = [\"Mazda\",\"honda\",\"Akura\",\"Ford\",\"VW\"]\n",
        "telefonos = [\"iPhone\",\"Huawei Mate 30\", \"Xiaomi S10\",\"Alcatel t1000\"]\n",
        "sistemas_operativos = [ \"Windows\", \"Linux\" , \"Android\" , \"iOS\" ,\"MacOs\" ]\n",
        "procesadores=[[\"intel\",3.1,True],[\"AMD\",2.7,False],[\"Motorola\",1.1,False]]\n",
        "\n",
        "lista_2d = [autos,telefonos,sistemas_operativos,procesadores]\n",
        "print(lista_2d)\n",
        "print(lista_2d[2][3])\n",
        "#imprimir \"wei\" de Huawei\n",
        "print(lista_2d[1][1][3:6])\n",
        "#imprimir la velocidad del procesador AMD\n",
        "print(lista_2d[3][1][1])\n",
        "#toro de motorola\n",
        "print(lista_2d[3][2][0][2:6])\n",
        "#fragmento de  i\"nte\"l invertido\n",
        "print(lista_2d[3][0][0][-2:-5:-1])\n",
        "\n",
        "colores=[\"rojo\", \"verde\", \"azul\", \"negro\"]\n",
        "flores=[\"margarita\", \"Rosa\"]\n",
        "\n",
        "#concatenar listas\n",
        "nueva=flores + colores\n",
        "#el orden afecta en donde se guardan\n",
        "nueva2=colores + flores\n",
        "print(nueva)\n",
        "print(nueva2)\n",
        "print(colores)\n",
        "print(flores)\n",
        "\n",
        "#concatenar con extend\n",
        "colores.extend(flores)\n",
        "print(colores)\n",
        "\n",
        "#unpacking de datos\n",
        "print(\"unpacking\")\n",
        "datos_personales=[\"Jose\",\"Perez\",\"Juarez\",22,1.67,True]\n",
        "#metodo tradicional, guardando la info en variables\n",
        "nombre=datos_personales[0]\n",
        "print(nombre)\n",
        "#metodo unpacking\n",
        "nombre,paterno,materno,edad,estatura,fumador=datos_personales\n",
        "print(f\"Nombre: {nombre}\\nEdad: {edad}\")"
      ],
      "execution_count": 18,
      "outputs": [
        {
          "output_type": "stream",
          "text": [
            "[['Mazda', 'honda', 'Akura', 'Ford', 'VW'], ['iPhone', 'Huawei Mate 30', 'Xiaomi S10', 'Alcatel t1000'], ['Windows', 'Linux', 'Android', 'iOS', 'MacOs'], [['intel', 3.1, True], ['AMD', 2.7, False], ['Motorola', 1.1, False]]]\n",
            "iOS\n",
            "wei\n",
            "2.7\n",
            "toro\n",
            "etn\n",
            "['margarita', 'Rosa', 'rojo', 'verde', 'azul', 'negro']\n",
            "['rojo', 'verde', 'azul', 'negro', 'margarita', 'Rosa']\n",
            "['rojo', 'verde', 'azul', 'negro']\n",
            "['margarita', 'Rosa']\n",
            "['rojo', 'verde', 'azul', 'negro', 'margarita', 'Rosa']\n",
            "unpacking\n",
            "Jose\n",
            "Nombre: Jose\n",
            "Edad: 22\n"
          ],
          "name": "stdout"
        }
      ]
    },
    {
      "cell_type": "code",
      "metadata": {
        "id": "-om6GTo3uLfk",
        "outputId": "d74daa8d-f8f6-49db-d066-a3e70c9c0215",
        "colab": {
          "base_uri": "https://localhost:8080/"
        }
      },
      "source": [
        "#TUPLAS\n",
        "bd= ('127.0.0.1',\"root\",\"toor\",\"1345\")\n",
        "print(f\"ELusuario de la base de datos es: {bd[1:3]}\")\n",
        "print(f\"ELusuario y contraseña es: {bd[1:3]}\"\n",
        "#no se puede modificar la tupla despues\n",
        "#bd[1]=\"Jose\"\n"
      ],
      "execution_count": 23,
      "outputs": [
        {
          "output_type": "stream",
          "text": [
            "ELusuario de la base de datos es: ('root', 'toor')\n"
          ],
          "name": "stdout"
        }
      ]
    },
    {
      "cell_type": "code",
      "metadata": {
        "id": "XVdklnbEwT1O",
        "outputId": "f883dc02-0f36-438d-f854-978a3f8def1a",
        "colab": {
          "base_uri": "https://localhost:8080/"
        }
      },
      "source": [
        "#DICCIONARIOS\n",
        "#se declara con llaves\n",
        "\n",
        "alumno= {\"Nombre\":\"Juan\",\"edad\":22,\"Carrera\":\"ICO\"}\n",
        "\n",
        "#Declarar un diccionario permite declararse en multiples lineas\n",
        "alumno= {\n",
        "    \"Nombre\":\"Juan\",\n",
        "    \"edad\":22,\n",
        "    \"Carrera\":\"ICO\"\n",
        "    }\n",
        "#se pueden anidar diccionarios\n",
        "#Declarar un diccionario permite declararse en multiples lineas\n",
        "alumno= {\n",
        "    \"Nombre\":\"Juan\",\n",
        "    \"edad\":22,\n",
        "    \"Carrera\":\"ICO\",\n",
        "    'direccion': {\n",
        "        'calle': 'Bosques de africa',\n",
        "        'numero':33,\n",
        "        'delegacion':'Nezahualcoyotl',\n",
        "        'Estado':'Mexico'\n",
        "    }\n",
        "    }\n",
        "print(alumno)\n",
        "print(alumno['edad'])\n",
        "print(alumno['direccion']['delegacion'])\n",
        "print(alumno['direccion']['delegacion'][3:7].upper())\n",
        "\n",
        "#permite modificar datos\n",
        "alumno['edad']=35\n",
        "print(alumno)\n",
        "#y agregar datos de forma dinamica, si no existe lo crea, si extiste lo crea\n",
        "alumno['promedio']= 9.9\n",
        "alumno['direccion']['cp']=17170\n",
        "alumno['materia']={'nombre':'CyP','calificacion':10}\n",
        "print(alumno)\n",
        "\n",
        "cliente = { \"id\" : 1 , \"nombre\" : \"Carlos Slim\"}\n",
        "print(cliente)"
      ],
      "execution_count": 43,
      "outputs": [
        {
          "output_type": "stream",
          "text": [
            "{'Nombre': 'Juan', 'edad': 22, 'Carrera': 'ICO', 'direccion': {'calle': 'Bosques de africa', 'numero': 33, 'delegacion': 'Nezahualcoyotl', 'Estado': 'Mexico'}}\n",
            "22\n",
            "Nezahualcoyotl\n",
            "AHUA\n",
            "{'Nombre': 'Juan', 'edad': 35, 'Carrera': 'ICO', 'direccion': {'calle': 'Bosques de africa', 'numero': 33, 'delegacion': 'Nezahualcoyotl', 'Estado': 'Mexico'}}\n",
            "{'Nombre': 'Juan', 'edad': 35, 'Carrera': 'ICO', 'direccion': {'calle': 'Bosques de africa', 'numero': 33, 'delegacion': 'Nezahualcoyotl', 'Estado': 'Mexico', 'cp': 17170}, 'promedio': 9.9, 'materia': {'nombre': 'CyP', 'calificacion': 10}}\n",
            "{'id': 1, 'nombre': 'Carlos Slim'}\n"
          ],
          "name": "stdout"
        }
      ]
    },
    {
      "cell_type": "code",
      "metadata": {
        "id": "DO1ifW9i0IHC",
        "outputId": "3a2f6e6f-2bf7-457e-c0fd-541cb9e0f643",
        "colab": {
          "base_uri": "https://localhost:8080/"
        }
      },
      "source": [
        "help(dict)"
      ],
      "execution_count": 39,
      "outputs": [
        {
          "output_type": "stream",
          "text": [
            "Help on class dict in module builtins:\n",
            "\n",
            "class dict(object)\n",
            " |  dict() -> new empty dictionary\n",
            " |  dict(mapping) -> new dictionary initialized from a mapping object's\n",
            " |      (key, value) pairs\n",
            " |  dict(iterable) -> new dictionary initialized as if via:\n",
            " |      d = {}\n",
            " |      for k, v in iterable:\n",
            " |          d[k] = v\n",
            " |  dict(**kwargs) -> new dictionary initialized with the name=value pairs\n",
            " |      in the keyword argument list.  For example:  dict(one=1, two=2)\n",
            " |  \n",
            " |  Methods defined here:\n",
            " |  \n",
            " |  __contains__(self, key, /)\n",
            " |      True if D has a key k, else False.\n",
            " |  \n",
            " |  __delitem__(self, key, /)\n",
            " |      Delete self[key].\n",
            " |  \n",
            " |  __eq__(self, value, /)\n",
            " |      Return self==value.\n",
            " |  \n",
            " |  __ge__(self, value, /)\n",
            " |      Return self>=value.\n",
            " |  \n",
            " |  __getattribute__(self, name, /)\n",
            " |      Return getattr(self, name).\n",
            " |  \n",
            " |  __getitem__(...)\n",
            " |      x.__getitem__(y) <==> x[y]\n",
            " |  \n",
            " |  __gt__(self, value, /)\n",
            " |      Return self>value.\n",
            " |  \n",
            " |  __init__(self, /, *args, **kwargs)\n",
            " |      Initialize self.  See help(type(self)) for accurate signature.\n",
            " |  \n",
            " |  __iter__(self, /)\n",
            " |      Implement iter(self).\n",
            " |  \n",
            " |  __le__(self, value, /)\n",
            " |      Return self<=value.\n",
            " |  \n",
            " |  __len__(self, /)\n",
            " |      Return len(self).\n",
            " |  \n",
            " |  __lt__(self, value, /)\n",
            " |      Return self<value.\n",
            " |  \n",
            " |  __ne__(self, value, /)\n",
            " |      Return self!=value.\n",
            " |  \n",
            " |  __new__(*args, **kwargs) from builtins.type\n",
            " |      Create and return a new object.  See help(type) for accurate signature.\n",
            " |  \n",
            " |  __repr__(self, /)\n",
            " |      Return repr(self).\n",
            " |  \n",
            " |  __setitem__(self, key, value, /)\n",
            " |      Set self[key] to value.\n",
            " |  \n",
            " |  __sizeof__(...)\n",
            " |      D.__sizeof__() -> size of D in memory, in bytes\n",
            " |  \n",
            " |  clear(...)\n",
            " |      D.clear() -> None.  Remove all items from D.\n",
            " |  \n",
            " |  copy(...)\n",
            " |      D.copy() -> a shallow copy of D\n",
            " |  \n",
            " |  fromkeys(iterable, value=None, /) from builtins.type\n",
            " |      Returns a new dict with keys from iterable and values equal to value.\n",
            " |  \n",
            " |  get(...)\n",
            " |      D.get(k[,d]) -> D[k] if k in D, else d.  d defaults to None.\n",
            " |  \n",
            " |  items(...)\n",
            " |      D.items() -> a set-like object providing a view on D's items\n",
            " |  \n",
            " |  keys(...)\n",
            " |      D.keys() -> a set-like object providing a view on D's keys\n",
            " |  \n",
            " |  pop(...)\n",
            " |      D.pop(k[,d]) -> v, remove specified key and return the corresponding value.\n",
            " |      If key is not found, d is returned if given, otherwise KeyError is raised\n",
            " |  \n",
            " |  popitem(...)\n",
            " |      D.popitem() -> (k, v), remove and return some (key, value) pair as a\n",
            " |      2-tuple; but raise KeyError if D is empty.\n",
            " |  \n",
            " |  setdefault(...)\n",
            " |      D.setdefault(k[,d]) -> D.get(k,d), also set D[k]=d if k not in D\n",
            " |  \n",
            " |  update(...)\n",
            " |      D.update([E, ]**F) -> None.  Update D from dict/iterable E and F.\n",
            " |      If E is present and has a .keys() method, then does:  for k in E: D[k] = E[k]\n",
            " |      If E is present and lacks a .keys() method, then does:  for k, v in E: D[k] = v\n",
            " |      In either case, this is followed by: for k in F:  D[k] = F[k]\n",
            " |  \n",
            " |  values(...)\n",
            " |      D.values() -> an object providing a view on D's values\n",
            " |  \n",
            " |  ----------------------------------------------------------------------\n",
            " |  Data and other attributes defined here:\n",
            " |  \n",
            " |  __hash__ = None\n",
            "\n"
          ],
          "name": "stdout"
        }
      ]
    },
    {
      "cell_type": "code",
      "metadata": {
        "id": "6Ri6k1G-su-p"
      },
      "source": [
        ""
      ],
      "execution_count": null,
      "outputs": []
    }
  ]
}