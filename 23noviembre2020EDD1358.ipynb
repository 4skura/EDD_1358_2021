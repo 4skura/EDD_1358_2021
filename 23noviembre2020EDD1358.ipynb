{
  "nbformat": 4,
  "nbformat_minor": 0,
  "metadata": {
    "colab": {
      "name": "11noviembre2020EDD1358.ipynb",
      "provenance": [],
      "authorship_tag": "ABX9TyP4LIW4kyFca85RwVwsrRli",
      "include_colab_link": true
    },
    "kernelspec": {
      "name": "python3",
      "display_name": "Python 3"
    }
  },
  "cells": [
    {
      "cell_type": "markdown",
      "metadata": {
        "id": "view-in-github",
        "colab_type": "text"
      },
      "source": [
        "<a href=\"https://colab.research.google.com/github/4skura/EDD_1358_2021/blob/master/23noviembre2020EDD1358.ipynb\" target=\"_parent\"><img src=\"https://colab.research.google.com/assets/colab-badge.svg\" alt=\"Open In Colab\"/></a>"
      ]
    },
    {
      "cell_type": "code",
      "metadata": {
        "id": "J4rMhe5bEjjk",
        "colab": {
          "base_uri": "https://localhost:8080/"
        },
        "outputId": "6bb7fdde-a02b-48ed-edf4-f9e6753e6a15"
      },
      "source": [
        "class Nodo:\n",
        "  def __init__ (self, dato):\n",
        "    self.__dato=dato\n",
        "    self.__siguiente= None\n",
        "\n",
        "  def get_dato (self):\n",
        "    return self.__dato\n",
        "\n",
        "  def set_dato (self, d):\n",
        "    self.__dato=d\n",
        "\n",
        "  def get_siguiente(self):\n",
        "    return self.__siguiente\n",
        "\n",
        "  def set_siguiente(self,d):\n",
        "    self.__siguiente=d\n",
        "\n",
        "  #def to_string (self):\n",
        "    #return '|'+ str(self.__dato) + '|' + str(self.__siguiente) + '--->'\n",
        "\n",
        "  def show( self ):\n",
        "        curr_node = self # Head\n",
        "        print(\" Inicio de la estructura ligada:\")\n",
        "        print(\"|\" + str(curr_node.get_dato()) + \"| -->\" , end =\"\" )\n",
        "        while( curr_node.get_siguiente() != None ):\n",
        "            curr_node = curr_node.get_siguiente()\n",
        "            print(\"|\" + str(curr_node.get_dato() ) + \"| -->\" , end =\"\" )\n",
        "        print(\"\\nFin\")\n",
        "        \n",
        "\n",
        "# ejemplo 1\n",
        "a = Nodo( 10 )\n",
        "a.show()\n",
        "\n",
        "#ejemplo2\n",
        "a.set_siguiente(Nodo(20))\n",
        "a.show()\n",
        "\n",
        "#ejemplo3\n",
        "a.get_siguiente().set_siguiente(Nodo (30))\n",
        "a.show()\n",
        "\n",
        "#ejemplo 4\n",
        "a.get_siguiente().get_siguiente().set_siguiente(Nodo(40))\n",
        "a.show()\n",
        "\n",
        "#ejemplo5\n",
        "a.get_siguiente().get_siguiente().get_siguiente().set_siguiente(Nodo(50))\n",
        "a.show()\n",
        "\n",
        "#modificr a\n",
        "a.set_dato(12)\n",
        "a.show()\n",
        "\n",
        "#ejemplo 6\n",
        "a.get_siguiente().get_siguiente().get_siguiente().set_dato(45)\n",
        "a.show()\n",
        "\n",
        "#ejemplo7 agregagar dato y modificar otro\n",
        "a.get_siguiente().get_siguiente().get_siguiente().get_siguiente().set_siguiente(Nodo(60))\n",
        "a.get_siguiente().set_dato(25)\n",
        "a.show()\n",
        "# ejemplo 2\n",
        "#b= Nodo( 20 )\n",
        "#a.set_siguiente( b )\n",
        "#a.show()\n",
        "\n",
        "# ejemplo 3\n",
        "#c= Nodo( 30 )\n",
        "#b.set_siguiente(c)\n",
        "#a.show()\n"
      ],
      "execution_count": null,
      "outputs": [
        {
          "output_type": "stream",
          "text": [
            " Inicio de la estructura ligada:\n",
            "|10| -->\n",
            "Fin\n",
            " Inicio de la estructura ligada:\n",
            "|10| -->|20| -->\n",
            "Fin\n",
            " Inicio de la estructura ligada:\n",
            "|10| -->|20| -->|30| -->\n",
            "Fin\n",
            " Inicio de la estructura ligada:\n",
            "|10| -->|20| -->|30| -->|40| -->\n",
            "Fin\n",
            " Inicio de la estructura ligada:\n",
            "|10| -->|20| -->|30| -->|40| -->|50| -->\n",
            "Fin\n",
            " Inicio de la estructura ligada:\n",
            "|12| -->|20| -->|30| -->|40| -->|50| -->\n",
            "Fin\n",
            " Inicio de la estructura ligada:\n",
            "|12| -->|20| -->|30| -->|45| -->|50| -->\n",
            "Fin\n",
            " Inicio de la estructura ligada:\n",
            "|12| -->|25| -->|30| -->|45| -->|50| -->|60| -->\n",
            "Fin\n"
          ],
          "name": "stdout"
        }
      ]
    },
    {
      "cell_type": "code",
      "metadata": {
        "id": "W0LBj_KHN-9v",
        "colab": {
          "base_uri": "https://localhost:8080/"
        },
        "outputId": "c884c997-f8f9-4eae-b8e2-ccc75fe62b51"
      },
      "source": [
        "class Nodo:\n",
        "  def __init__ (self, dato):\n",
        "    self.dato=dato\n",
        "    self.siguiente= None\n",
        "\n",
        "#ejemplo1\n",
        "a= Nodo(10)\n",
        "print(a.dato)\n",
        "print(a.siguiente)\n",
        "\n",
        "#ejemplo2\n",
        "a.siguiente=Nodo (20)\n",
        "\n",
        "#ejemplo 3\n",
        "a.siguiente.siguiente=Nodo(30)\n",
        "\n",
        "#ejemplo4\n",
        "a.siguiente.siguiente.siguiente=Nodo (40)\n",
        "\n",
        "#ejemplo5\n",
        "a.siguiente.siguiente.siguiente.siguiente=Nodo(50)\n",
        "#despalazamiento transversal\n",
        "curr_node = a\n",
        "print(curr_node.dato , \"-->\" , end=\"\")\n",
        "while( curr_node.siguiente != None ):\n",
        "    curr_node = curr_node.siguiente\n",
        "    print(curr_node.dato, \"-->\" , end=\"\")\n",
        "print(\"\")\n",
        "\n",
        "#modificacion de datos\n",
        "#ejemplo6\n",
        "a.siguiente.siguiente.dato=35\n",
        "#ejemplo7\n",
        "a.siguiente.siguiente.siguiente.dato=45\n",
        "#despalazamiento transversal\n",
        "curr_node = a\n",
        "print(curr_node.dato , \"-->\" , end=\"\")\n",
        "while( curr_node.siguiente != None ):\n",
        "    curr_node = curr_node.siguiente\n",
        "    print(curr_node.dato, \"-->\" , end=\"\")\n",
        "print(\"\")\n",
        "\n",
        "#eliminacion de datos\n",
        "#ejemplo8\n",
        "a.siguiente.siguiente=a.siguiente.siguiente.siguiente\n",
        "#despalazamiento transversal\n",
        "curr_node = a\n",
        "print(curr_node.dato , \"-->\" , end=\"\")\n",
        "while( curr_node.siguiente != None ):\n",
        "    curr_node = curr_node.siguiente\n",
        "    print(curr_node.dato, \"-->\" , end=\"\")\n",
        "print(\"\")\n",
        "\n",
        "#ejemplo 9\n",
        "a.siguiente=a.siguiente.siguiente.siguiente\n",
        "#despalazamiento transversal\n",
        "curr_node = a\n",
        "print(curr_node.dato , \"-->\" , end=\"\")\n",
        "while( curr_node.siguiente != None ):\n",
        "    curr_node = curr_node.siguiente\n",
        "    print(curr_node.dato, \"-->\" , end=\"\")\n",
        "print(\"\")"
      ],
      "execution_count": null,
      "outputs": [
        {
          "output_type": "stream",
          "text": [
            "10\n",
            "None\n",
            "10 -->20 -->30 -->40 -->50 -->\n",
            "10 -->20 -->35 -->45 -->50 -->\n",
            "10 -->20 -->45 -->50 -->\n",
            "10 -->50 -->\n"
          ],
          "name": "stdout"
        }
      ]
    },
    {
      "cell_type": "code",
      "metadata": {
        "colab": {
          "base_uri": "https://localhost:8080/"
        },
        "id": "MadjY-pbJLqN",
        "outputId": "53c14b86-7da2-4140-dd61-e005d31e5f68"
      },
      "source": [
        "#CODIGO DEL 18 DE NOVIEMBRE\n",
        "class Nodo:\n",
        "  def __init__ (self, dato, siguiente=None):\n",
        "    self.dato=dato\n",
        "    self.siguiente= siguiente\n",
        "\n",
        "head= Nodo(10, Nodo(20, Nodo(30, Nodo(40, Nodo(50)))))\n",
        "\n",
        "#despalazamiento transversal\n",
        "curr_node = head\n",
        "print(curr_node.dato , \"-->\" , end=\"\")\n",
        "while( curr_node.siguiente != None ):\n",
        "    curr_node = curr_node.siguiente\n",
        "    print(curr_node.dato, \"-->\" , end=\"\")\n",
        "print(\"\")\n",
        "\n",
        "#insertar un 35 despues del 30\n",
        "anterior= head.siguiente.siguiente\n",
        "print(\"el ultimo dato de la cadena que se mantiene: \", anterior.dato)\n",
        "nuevo= Nodo(35)\n",
        "nuevo.siguiente= anterior.siguiente\n",
        "print(\"El siguiente nodo comienza en: \", nuevo.siguiente.dato)\n",
        "anterior.siguiente= nuevo\n",
        "\n",
        "#despalazamiento transversal\n",
        "curr_node = head\n",
        "print(curr_node.dato , \"-->\" , end=\"\")\n",
        "while( curr_node.siguiente != None ):\n",
        "    curr_node = curr_node.siguiente\n",
        "    print(curr_node.dato, \"-->\" , end=\"\")\n",
        "print(\"\")\n",
        "\n",
        "#eliminar el nodo 20\n",
        "head.siguiente= head.siguiente.siguiente\n",
        "\n",
        "#despalazamiento transversal\n",
        "curr_node = head\n",
        "print(curr_node.dato , \"-->\" , end=\"\")\n",
        "while( curr_node.siguiente != None ):\n",
        "    curr_node = curr_node.siguiente\n",
        "    print(curr_node.dato, \"-->\" , end=\"\")\n",
        "print(\"\")"
      ],
      "execution_count": null,
      "outputs": [
        {
          "output_type": "stream",
          "text": [
            "10 -->20 -->30 -->40 -->50 -->\n",
            "el ultimo dato de la cadena que se mantiene:  30\n",
            "El siguiente nodo comienza en:  40\n",
            "10 -->20 -->30 -->35 -->40 -->50 -->\n",
            "10 -->30 -->35 -->40 -->50 -->\n"
          ],
          "name": "stdout"
        }
      ]
    },
    {
      "cell_type": "code",
      "metadata": {
        "id": "TiUECwS7Ve5x"
      },
      "source": [
        "#CLASE 3 Noviembre\n",
        "class Nodo:\n",
        "  def __init__ (self, dato, siguiente= None):\n",
        "    self.dato=dato\n",
        "    self.siguiente= siguiente\n",
        "\n",
        "class LinkedList:\n",
        "  def __init__(self):\n",
        "    self.__head= None\n",
        "\n",
        "  def is_empty(self):\n",
        "    return self.__head == None\n",
        "\n",
        "  def tail(self):\n",
        "    curr_node = self.__head\n",
        "    while curr_node != None and curr_node.siguiente != None:\n",
        "      curr_node= curr_node.siguiente\n",
        "    return curr_node\n",
        "\n",
        "  def append(self, value):\n",
        "    nuevo= Nodo(value)\n",
        "    if self.__head== None:\n",
        "      self.__head=nuevo\n",
        "    else:\n",
        "      self.tail().siguiente= nuevo\n",
        "\n",
        "  def transversal(self):\n",
        "    curr_node=self.__head\n",
        "    if curr_node== None:\n",
        "      print(\"Lista vacia\")\n",
        "    else:\n",
        "      while curr_node != None:\n",
        "        print(f\"{curr_node.dato}-->\", end=\"\")\n",
        "        curr_node= curr_node.siguiente\n",
        "    print(\"\")\n",
        "\n",
        "  def prepend(self, value):\n",
        "    nuevo = Nodo(value, self.__head)\n",
        "    self.__head = nuevo"
      ],
      "execution_count": 25,
      "outputs": []
    },
    {
      "cell_type": "code",
      "metadata": {
        "colab": {
          "base_uri": "https://localhost:8080/"
        },
        "id": "OwdoUZ2y4J2q",
        "outputId": "0cdfbc3a-625b-4faf-c9e7-abf72b68b858"
      },
      "source": [
        "l= LinkedList()\n",
        "print(f\"L esta vacias= {l.is_empty()}\")\n",
        "x=l.tail()\n",
        "print(x)\n",
        "l.append(10)\n",
        "l.append(20)\n",
        "l.append(30)\n",
        "l.append(40)\n",
        "l.transversal()\n",
        "l.prepend(5)\n",
        "l.transversal()"
      ],
      "execution_count": 26,
      "outputs": [
        {
          "output_type": "stream",
          "text": [
            "L esta vacias= True\n",
            "None\n",
            "10-->20-->30-->40-->\n",
            "5-->10-->20-->30-->40-->\n"
          ],
          "name": "stdout"
        }
      ]
    }
  ]
}