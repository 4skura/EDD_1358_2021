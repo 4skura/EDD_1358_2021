{
  "nbformat": 4,
  "nbformat_minor": 0,
  "metadata": {
    "colab": {
      "name": "28_septiembre1358.ipynb",
      "provenance": [],
      "authorship_tag": "ABX9TyNinoqcdtmdZIgv6yr6N23P",
      "include_colab_link": true
    },
    "kernelspec": {
      "name": "python3",
      "display_name": "Python 3"
    }
  },
  "cells": [
    {
      "cell_type": "markdown",
      "metadata": {
        "id": "view-in-github",
        "colab_type": "text"
      },
      "source": [
        "<a href=\"https://colab.research.google.com/github/4skura/EDD_1358_2021/blob/master/28_septiembre1358.ipynb\" target=\"_parent\"><img src=\"https://colab.research.google.com/assets/colab-badge.svg\" alt=\"Open In Colab\"/></a>"
      ]
    },
    {
      "cell_type": "code",
      "metadata": {
        "id": "t-VCwdoVXPJi",
        "outputId": "d55ed4ff-c917-4fc3-893c-f83139ec51bc",
        "colab": {
          "base_uri": "https://localhost:8080/",
          "height": 34
        }
      },
      "source": [
        "print(\"hola ColabResearch\") \n",
        "nombre=\"luis\""
      ],
      "execution_count": 1,
      "outputs": [
        {
          "output_type": "stream",
          "text": [
            "hola ColabResearch\n"
          ],
          "name": "stdout"
        }
      ]
    },
    {
      "cell_type": "code",
      "metadata": {
        "id": "nsZ4b7RZX7EB",
        "outputId": "0876d2eb-893f-42af-9ad1-bb712394b563",
        "colab": {
          "base_uri": "https://localhost:8080/",
          "height": 34
        }
      },
      "source": [
        "print(nombre)"
      ],
      "execution_count": 2,
      "outputs": [
        {
          "output_type": "stream",
          "text": [
            "luis\n"
          ],
          "name": "stdout"
        }
      ]
    },
    {
      "cell_type": "markdown",
      "metadata": {
        "id": "PLRZ7I56ZwT1"
      },
      "source": [
        "# Hola, esto es un ecabezado\n",
        "##encabezado nivel 2\n",
        "###sintaxis markdown\n",
        "* elem 1\n",
        "* elem 2\n",
        "* elem 3\n",
        "1. Fresa\n",
        "1. Manzana\n",
        "1. Pera\n",
        "**esto es un texto largo y quiero poner letras negritas y tambien quiero poner _italica_**\n",
        "[Ir a Google](https://www.google.com)"
      ]
    },
    {
      "cell_type": "code",
      "metadata": {
        "id": "rJMq3nNZcGPf"
      },
      "source": [
        "class Silla():\n",
        "  def __init__ ( self ):\n",
        "    self.material = \"\"\n",
        "    self.color = \"\"\n",
        "  def to_string (self):\n",
        "      print (\"----------------\")\n",
        "      print (f\"Material:{self.material}\")\n",
        "      print (f\"{self.color} -------------\")"
      ],
      "execution_count": 3,
      "outputs": []
    },
    {
      "cell_type": "code",
      "metadata": {
        "id": "oNoOiMQHd0bd",
        "outputId": "77fa98e1-ec0f-423e-dfda-20d79efb6822",
        "colab": {
          "base_uri": "https://localhost:8080/",
          "height": 68
        }
      },
      "source": [
        "obj = Silla()\n",
        "obj.color= \"Cafe\"\n",
        "obj.to_string()"
      ],
      "execution_count": 4,
      "outputs": [
        {
          "output_type": "stream",
          "text": [
            "----------------\n",
            "Material:\n",
            "Cafe -------------\n"
          ],
          "name": "stdout"
        }
      ]
    }
  ]
}