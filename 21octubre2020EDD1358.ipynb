{
  "nbformat": 4,
  "nbformat_minor": 0,
  "metadata": {
    "colab": {
      "name": "21octubre2020EDD1358.ipynb",
      "provenance": [],
      "authorship_tag": "ABX9TyMT72qC0XxM8dbXM7ei0E+X",
      "include_colab_link": true
    },
    "kernelspec": {
      "name": "python3",
      "display_name": "Python 3"
    }
  },
  "cells": [
    {
      "cell_type": "markdown",
      "metadata": {
        "id": "view-in-github",
        "colab_type": "text"
      },
      "source": [
        "<a href=\"https://colab.research.google.com/github/4skura/EDD_1358_2021/blob/master/21octubre2020EDD1358.ipynb\" target=\"_parent\"><img src=\"https://colab.research.google.com/assets/colab-badge.svg\" alt=\"Open In Colab\"/></a>"
      ]
    },
    {
      "cell_type": "code",
      "metadata": {
        "id": "WIO1F6gxtD13",
        "outputId": "1f5514c7-4ce7-47f9-8b68-aa91772861b1",
        "colab": {
          "base_uri": "https://localhost:8080/",
          "height": 51
        }
      },
      "source": [
        "#encapsulamientos\n",
        "#encapsulamiento al estilo tradicional de Java\n",
        "class SmartPhone:\n",
        "    def __init__(self,m):\n",
        "      self.__marca=m\n",
        "\n",
        "    def set_marca(self, m):\n",
        "      self.__marca=m\n",
        "\n",
        "    def get_marca(self):\n",
        "      return self.__marca\n",
        "\n",
        "    def to_String(self):\n",
        "      return \"La marca del telefono es: \" + self.__marca\n",
        "sp1= SmartPhone('Huawei')\n",
        "print(sp1.to_String())\n",
        "sp1.set_marca(\"IPhone X\")\n",
        "print(sp1.to_String())"
      ],
      "execution_count": 9,
      "outputs": [
        {
          "output_type": "stream",
          "text": [
            "La marca del telefono es: Huawei\n",
            "La marca del telefono es: IPhone X\n"
          ],
          "name": "stdout"
        }
      ]
    },
    {
      "cell_type": "code",
      "metadata": {
        "id": "ChBtOnJ5xxmV",
        "outputId": "4221ddd2-5b64-4ba2-9ada-a33d46ebd7e2",
        "colab": {
          "base_uri": "https://localhost:8080/",
          "height": 102
        }
      },
      "source": [
        "#encapsulamiento al estido de Phyton3\n",
        "#usa 'decoradoes'\n",
        "class SmartPhone:\n",
        "    def __init__(self, m):\n",
        "      #llamando al metodo set de marca\n",
        "      self.marca=m\n",
        "\n",
        "    #con @property se declara un metodo getter de un atributo\n",
        "    #al mismo tiempo se declara self.__marca y se hace privado\n",
        "    @property\n",
        "    def marca(self):\n",
        "      #print(\"En el metodo get de marca \")\n",
        "      return self.__marca\n",
        "\n",
        "    @marca.setter\n",
        "    def marca(self, m):\n",
        "      if m in [\"Lenovo\", \"Huawie\", \"IPhone\", \"Motorola\", \"Sony\", \"Xiaomi\"]:\n",
        "        self.__marca=m\n",
        "      else:\n",
        "        print(\"Asignacion no valida\")\n",
        "\n",
        "    def to_string(self):\n",
        "      return \"La marca es: \" + self.marca\n",
        "\n",
        "sp2= SmartPhone('Xiaomi')\n",
        "print(sp2.to_string())\n",
        "\n",
        "#el metodo marca es el setter al mismo tiempo\n",
        "sp2.marca='Motorola'\n",
        "print(sp2.to_string())\n",
        "#es posible llamarlo directamente\n",
        "print(sp2.marca)\n",
        "\n",
        "#este metodo facilita verificar datos\n",
        "sp2.marca=\"12332 sjksd\"\n",
        "print(sp2.marca)\n"
      ],
      "execution_count": 17,
      "outputs": [
        {
          "output_type": "stream",
          "text": [
            "La marca es: Xiaomi\n",
            "La marca es: Motorola\n",
            "Motorola\n",
            "Asignacion no valida\n",
            "Motorola\n"
          ],
          "name": "stdout"
        }
      ]
    },
    {
      "cell_type": "code",
      "metadata": {
        "id": "QlplbgpW5IsO",
        "outputId": "db0bad04-cea9-4eff-c933-e54c78a821c1",
        "colab": {
          "base_uri": "https://localhost:8080/",
          "height": 34
        }
      },
      "source": [
        "#Herencia\n",
        "class Telefono_Trabajo(SmartPhone):\n",
        "    def __init__ (self, m):\n",
        "      self.marca=m\n",
        "\n",
        "sp3=Telefono_Trabajo('Motorola')\n",
        "print(sp3.marca)"
      ],
      "execution_count": 21,
      "outputs": [
        {
          "output_type": "stream",
          "text": [
            "Motorola\n"
          ],
          "name": "stdout"
        }
      ]
    }
  ]
}