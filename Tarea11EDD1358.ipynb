{
  "nbformat": 4,
  "nbformat_minor": 0,
  "metadata": {
    "colab": {
      "name": "18ene01EDD1358.ipynb",
      "provenance": [],
      "authorship_tag": "ABX9TyOoI4ZXcQYaW2f4LhZoXJXd",
      "include_colab_link": true
    },
    "kernelspec": {
      "name": "python3",
      "display_name": "Python 3"
    }
  },
  "cells": [
    {
      "cell_type": "markdown",
      "metadata": {
        "id": "view-in-github",
        "colab_type": "text"
      },
      "source": [
        "<a href=\"https://colab.research.google.com/github/4skura/EDD_1358_2021/blob/master/Tarea11EDD1358.ipynb\" target=\"_parent\"><img src=\"https://colab.research.google.com/assets/colab-badge.svg\" alt=\"Open In Colab\"/></a>"
      ]
    },
    {
      "cell_type": "code",
      "metadata": {
        "id": "EpIpYivQR8As"
      },
      "source": [
        "class NodoArbol:\r\n",
        "  def __init__(self, value, left=None, right=None):\r\n",
        "    self.data= value\r\n",
        "    self.left= left\r\n",
        "    self.right= right"
      ],
      "execution_count": 49,
      "outputs": []
    },
    {
      "cell_type": "code",
      "metadata": {
        "id": "LdNiftPRSzEO"
      },
      "source": [
        "class ArbolBinarioBusqueda:\r\n",
        "  def __init__(self):\r\n",
        "    self.__root= None\r\n",
        "  \r\n",
        "  def insert(self, value):\r\n",
        "    if self.__root== None:\r\n",
        "      self.__root= NodoArbol(value)\r\n",
        "    else:\r\n",
        "      self.__insert__(self.__root, value)\r\n",
        "\r\n",
        "\r\n",
        "  def __insert__(self, nodo, value):#recursividad\r\n",
        "    if nodo.data == value:\r\n",
        "      print(\"El nodo ya existe, no se inserta: \", value)\r\n",
        "    elif value < nodo.data:\r\n",
        "      #ir a la izquierda\r\n",
        "      if nodo.left == None:\r\n",
        "        nodo.left= NodoArbol(value)\r\n",
        "      else:\r\n",
        "        self.__insert__(nodo.left, value)\r\n",
        "\r\n",
        "    else:\r\n",
        "      #ir a la derecha\r\n",
        "      if nodo.right == None:\r\n",
        "        nodo.right= NodoArbol(value)\r\n",
        "      else:\r\n",
        "        self.__insert__(nodo.right, value)\r\n",
        "\r\n",
        "  def transversal(self, format=\"\"):#formato in, pos, pre\r\n",
        "    if format== \"in\":\r\n",
        "      print(\"\\nformato en in orden\")\r\n",
        "      self.__recorrido_in(self.__root)\r\n",
        "    elif format== \"pre\":\r\n",
        "      print(\"\\nformato en pre orden\")\r\n",
        "      self.__recorrido_pre(self.__root)\r\n",
        "    elif format==  \"pos\":\r\n",
        "      print(\"\\nformato en pos orden\")\r\n",
        "      self.__recorrido_pos(self.__root)\r\n",
        "    else:\r\n",
        "      print(\"formato no valido\")\r\n",
        "\r\n",
        "  #Recorrido in, imprime mediante recursividad, primero el nodo izquierdo,\r\n",
        "  #luego la raiz y al final el nodo derecho \r\n",
        "  def __recorrido_in(self,nodo):\r\n",
        "    if nodo== None:\r\n",
        "      pass\r\n",
        "    else:\r\n",
        "      self.__recorrido_in(nodo.left)\r\n",
        "      print(nodo.data, end=\", \")\r\n",
        "      self.__recorrido_in(nodo.right)\r\n",
        "\r\n",
        "  #Recorrido in, imprime mediante recursividad, primero la raiz,\r\n",
        "  #luego el nodo izquierdo y al final el nodo derecho \r\n",
        "  def __recorrido_pre(self,nodo):\r\n",
        "    if nodo== None:\r\n",
        "      pass\r\n",
        "    else:\r\n",
        "      print(nodo.data, end=\", \")\r\n",
        "      self.__recorrido_pre(nodo.left)\r\n",
        "      self.__recorrido_pre(nodo.right)\r\n",
        "\r\n",
        "  #Recorrido in, imprime mediante recursividad, primero el nodo izquierdo,\r\n",
        "  #luego el nodo derecho y al final la raiz \r\n",
        "  def __recorrido_pos(self,nodo):\r\n",
        "    if nodo== None:\r\n",
        "      pass\r\n",
        "    else:\r\n",
        "      self.__recorrido_pos(nodo.left)\r\n",
        "      self.__recorrido_pos(nodo.right)\r\n",
        "      print(nodo.data, end=\", \")"
      ],
      "execution_count": 50,
      "outputs": []
    },
    {
      "cell_type": "code",
      "metadata": {
        "colab": {
          "base_uri": "https://localhost:8080/"
        },
        "id": "gvffncSAdOSr",
        "outputId": "d8efeead-91e6-4ae4-841c-4d0d433162f6"
      },
      "source": [
        "abb= ArbolBinarioBusqueda()\r\n",
        "abb.insert(50)\r\n",
        "abb.insert(30)\r\n",
        "abb.insert(60)\r\n",
        "abb.insert(35)\r\n",
        "abb.insert(89)\r\n",
        "abb.insert(70)\r\n",
        "abb.insert(1)\r\n",
        "abb.transversal(\"in\")\r\n",
        "abb.transversal(\"pre\")\r\n",
        "abb.transversal(\"pos\")"
      ],
      "execution_count": 51,
      "outputs": [
        {
          "output_type": "stream",
          "text": [
            "\n",
            "formato en in orden\n",
            "1, 30, 35, 50, 60, 70, 89, \n",
            "formato en pre orden\n",
            "50, 30, 1, 35, 60, 89, 70, \n",
            "formato en pos orden\n",
            "1, 35, 30, 70, 89, 60, 50, "
          ],
          "name": "stdout"
        }
      ]
    }
  ]
}