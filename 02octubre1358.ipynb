{
  "nbformat": 4,
  "nbformat_minor": 0,
  "metadata": {
    "colab": {
      "name": "02octubre1358.ipynb",
      "provenance": [],
      "authorship_tag": "ABX9TyOH6rttg3MgXj1dJd8E7j/r",
      "include_colab_link": true
    },
    "kernelspec": {
      "name": "python3",
      "display_name": "Python 3"
    }
  },
  "cells": [
    {
      "cell_type": "markdown",
      "metadata": {
        "id": "view-in-github",
        "colab_type": "text"
      },
      "source": [
        "<a href=\"https://colab.research.google.com/github/4skura/EDD_1358_2021/blob/master/02octubre1358.ipynb\" target=\"_parent\"><img src=\"https://colab.research.google.com/assets/colab-badge.svg\" alt=\"Open In Colab\"/></a>"
      ]
    },
    {
      "cell_type": "markdown",
      "metadata": {
        "id": "8szqAVGU5kg9"
      },
      "source": [
        "#tipos de datos\n",
        "- string           str\n",
        "- enteros          int\n",
        "- numero flotante  float\n",
        "- Lógico           bool\n",
        "- Numero Complejo  complex\n",
        "- Listas           list\n",
        "- Tuplas           tuple\n",
        "- Diccionarios     dict\n",
        "- Conjuntos        set"
      ]
    },
    {
      "cell_type": "code",
      "metadata": {
        "id": "2iesE9Tl3j-H",
        "outputId": "efd845f4-dff5-42d3-a1a8-c3b3bb5cfb29",
        "colab": {
          "base_uri": "https://localhost:8080/",
          "height": 136
        }
      },
      "source": [
        "#string puede emplear ' ', \" \" o \"\"\" \"\"\"\n",
        "universidad = \"   universidad nacional autonoma de mexico\"\n",
        "#para un string de una sola palabra se suele usar ' '\n",
        "carrera= 'ico'\n",
        "area='software'\n",
        "print(carrera, area)\n",
        "# para multiples lineas se usa \"\"\"  \"\"\"\n",
        "frase=\"\"\"\n",
        "si\n",
        "algo funciona\n",
        "no\n",
        "lo arregles!!!\n",
        "\"\"\"\n",
        "print (frase)"
      ],
      "execution_count": 2,
      "outputs": [
        {
          "output_type": "stream",
          "text": [
            "ico software\n",
            "\n",
            "si\n",
            "algo funciona\n",
            "no\n",
            "lo arregles!!!\n",
            "\n"
          ],
          "name": "stdout"
        }
      ]
    },
    {
      "cell_type": "code",
      "metadata": {
        "id": "QOHfZS625mAx",
        "outputId": "44a6898c-1bf1-41fa-c876-cc7c05a12fde",
        "colab": {
          "base_uri": "https://localhost:8080/",
          "height": 221
        }
      },
      "source": [
        "print(universidad.upper())\n",
        "print(universidad)\n",
        "print(universidad.title)\n",
        "#eliminar espacios en un string\n",
        "universidad2= universidad.strip()\n",
        "print(universidad2)\n",
        "lista= universidad.split(\" \")\n",
        "print(lista)\n",
        "nueva=''\n",
        "for l in lista:\n",
        "  if len(l)>0:\n",
        "    nueva += l + \"\"\n",
        "print(nueva)\n",
        "\n",
        "numeros= \"1,2,34,56,100\"\n",
        "print(numeros)\n",
        "separados=numeros.split(\"4\")\n",
        "print(separados)\n",
        "separados=numeros.split(\",\")\n",
        "print(separados)\n",
        "\n",
        "#convertir string de numeros a  arreglo\n",
        "numeros_int= []\n",
        "for num in separados:\n",
        "  numeros_int.append(int(num))\n",
        "\n",
        "#muestra el numero del indice donde encuentra los caracteres introducidos\n",
        "print(universidad.index(\"na\"))\n",
        "\n",
        "#reemplaza caracteres\n",
        "print(universidad.replace(\" \",\"-\"))\n",
        "#replace no modifica la cadena original\n",
        "print(universidad)\n"
      ],
      "execution_count": 10,
      "outputs": [
        {
          "output_type": "stream",
          "text": [
            "UNIVERSIDAD NACIONAL AUTONOMA DE MEXICO\n",
            "universidad nacional autonoma de mexico\n",
            "<built-in method title of str object at 0x7f4008541710>\n",
            "universidad nacional autonoma de mexico\n",
            "['universidad', 'nacional', 'autonoma', 'de', 'mexico']\n",
            "universidadnacionalautonomademexico\n",
            "1,2,34,56,100\n",
            "['1,2,3', ',56,100']\n",
            "['1', '2', '34', '56', '100']\n",
            "12\n",
            "universidad-nacional-autonoma-de-mexico\n",
            "universidad nacional autonoma de mexico\n"
          ],
          "name": "stdout"
        }
      ]
    },
    {
      "cell_type": "markdown",
      "metadata": {
        "id": "ItXj4Cbx_brH"
      },
      "source": [
        "#slicing\n",
        "sintaxis\n",
        "[inicio: stop: incremento]\n"
      ]
    },
    {
      "cell_type": "code",
      "metadata": {
        "id": "fipSDJCb_01c",
        "outputId": "b3f80406-4fac-4d04-95cd-683aa885a746",
        "colab": {
          "base_uri": "https://localhost:8080/",
          "height": 119
        }
      },
      "source": [
        "#selector de elementos dentro de un string\n",
        "print(nueva[0])\n",
        "nueva=nueva.strip()\n",
        "#indexado negativo, comienza a contar al final del string\n",
        "print(nueva[len(nueva)-1])\n",
        "print(nueva[-1])\n",
        "\n",
        "#slicing\n",
        "print(nueva[11: 19: 1])\n",
        "print(nueva[-6: : 1])\n",
        "print(nueva[-1 :-7 :-1])\n",
        "\n",
        "#valores por defecto\n",
        "print(nueva[::2])"
      ],
      "execution_count": 18,
      "outputs": [
        {
          "output_type": "stream",
          "text": [
            "u\n",
            "o\n",
            "o\n",
            "nacional\n",
            "mexico\n",
            "ocixem\n"
          ],
          "name": "stdout"
        }
      ]
    },
    {
      "cell_type": "markdown",
      "metadata": {
        "id": "Os40GShWEHbO"
      },
      "source": [
        "#bool\n",
        "acepta solo dos valores\n",
        "True y False\n",
        "True bool(1)\n",
        "False bool(0)"
      ]
    },
    {
      "cell_type": "code",
      "metadata": {
        "id": "Jo2lfnCyD-ya",
        "outputId": "e71df6e4-9ba9-471c-c84a-790dd5b3f3f6",
        "colab": {
          "base_uri": "https://localhost:8080/",
          "height": 85
        }
      },
      "source": [
        "#para bool igual a cero sera false\n",
        "print(bool(0))\n",
        "\n",
        "#para todo valor diferente de cero es True\n",
        "print(bool(42424242))\n",
        "flag=0\n",
        "print(bool(flag))\n",
        "print (True)\n"
      ],
      "execution_count": 19,
      "outputs": [
        {
          "output_type": "stream",
          "text": [
            "False\n",
            "True\n",
            "False\n",
            "True\n"
          ],
          "name": "stdout"
        }
      ]
    },
    {
      "cell_type": "markdown",
      "metadata": {
        "id": "uuzUT4wzFMls"
      },
      "source": [
        "#comentarios\n",
        "para comentarios simples se usa #\n",
        "para comentarios de multiple linea se usa \"\"\" \"\"\""
      ]
    },
    {
      "cell_type": "code",
      "metadata": {
        "id": "sXG2r6U1FaIc"
      },
      "source": [
        "#Este es un comentario de linea simple\n",
        "\n",
        "\"\"\"\n",
        "Estes es \n",
        "un comentario\n",
        "de multiples lineas\n",
        "en phyton\n",
        "\"\"\"\n"
      ],
      "execution_count": null,
      "outputs": []
    },
    {
      "cell_type": "markdown",
      "metadata": {
        "id": "kXCbU45QF7jO"
      },
      "source": [
        "#funcion print\n",
        "hay 4 formas de usar el print:\n",
        "1. con comas\n",
        "2. con signo +\n",
        "3. con la funcion format() de la clase string\n",
        "4.  con el operador f\""
      ]
    },
    {
      "cell_type": "code",
      "metadata": {
        "id": "o_Y6c4njGWhc",
        "outputId": "31bc3131-0a7d-4b61-b16e-adc02edbe44f",
        "colab": {
          "base_uri": "https://localhost:8080/",
          "height": 85
        }
      },
      "source": [
        "#print con comas, convierte todo a string\n",
        "cantidad=2\n",
        "precio_chetos=8\n",
        "precio_fanta=12\n",
        "\n",
        "print(cantidad,precio_chetos,precio_fanta)\n",
        "\n",
        "#print con signo +, solo funciona con str\n",
        "print(\"hola\"+\"numero\")\n",
        "#muestra de como + esta sobrecargado y segun el contexto es lo que muestra\n",
        "print(cantidad+precio_chetos+precio_fanta)\n",
        "print(str (cantidad + precio_chetos + precio_fanta))"
      ],
      "execution_count": 25,
      "outputs": [
        {
          "output_type": "stream",
          "text": [
            "2 8 12\n",
            "holanumero\n",
            "22\n",
            "22\n"
          ],
          "name": "stdout"
        }
      ]
    }
  ]
}