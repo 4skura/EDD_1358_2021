{
  "nbformat": 4,
  "nbformat_minor": 0,
  "metadata": {
    "colab": {
      "name": "18ene01EDD1358.ipynb",
      "provenance": [],
      "authorship_tag": "ABX9TyPDz0ZsDPW3R6Li1VyLecQn",
      "include_colab_link": true
    },
    "kernelspec": {
      "name": "python3",
      "display_name": "Python 3"
    }
  },
  "cells": [
    {
      "cell_type": "markdown",
      "metadata": {
        "id": "view-in-github",
        "colab_type": "text"
      },
      "source": [
        "<a href=\"https://colab.research.google.com/github/4skura/EDD_1358_2021/blob/master/18ene01EDD1358.ipynb\" target=\"_parent\"><img src=\"https://colab.research.google.com/assets/colab-badge.svg\" alt=\"Open In Colab\"/></a>"
      ]
    },
    {
      "cell_type": "code",
      "metadata": {
        "id": "EpIpYivQR8As"
      },
      "source": [
        "class NodoArbol:\r\n",
        "  def __init__(self, value, left=None, right=None):\r\n",
        "    self.data= value\r\n",
        "    self.left= left\r\n",
        "    self.right= right"
      ],
      "execution_count": 1,
      "outputs": []
    },
    {
      "cell_type": "code",
      "metadata": {
        "id": "LdNiftPRSzEO"
      },
      "source": [
        "class ArbolBinarioBusqueda:\r\n",
        "  def __init__(self):\r\n",
        "    self.__root= None\r\n",
        "  \r\n",
        "  def insert(self, value):\r\n",
        "    if self.__root== None:\r\n",
        "      self.__root= NodoArbol(value)\r\n",
        "    else:\r\n",
        "      self.__insert__(self.__root, value)\r\n",
        "\r\n",
        "\r\n",
        "  def __insert__(self, nodo, value):#recursividad\r\n",
        "    if nodo.data == value:\r\n",
        "      print(\"El nodo ya existe, no se inserta: \", value)\r\n",
        "    elif value < nodo.data:\r\n",
        "      #ir a la izquierda\r\n",
        "      if nodo.left == None:\r\n",
        "        nodo.left= NodoArbol(value)\r\n",
        "      else:\r\n",
        "        self.__insert__(nodo.left, value)\r\n",
        "\r\n",
        "    else:\r\n",
        "      #ir a la derecha\r\n",
        "      if nodo.right == None:\r\n",
        "        nodo.right= NodoArbol(value)\r\n",
        "      else:\r\n",
        "        self.__insert__(nodo.right, value)\r\n"
      ],
      "execution_count": 6,
      "outputs": []
    },
    {
      "cell_type": "code",
      "metadata": {
        "colab": {
          "base_uri": "https://localhost:8080/"
        },
        "id": "gvffncSAdOSr",
        "outputId": "94a6c8f0-d656-476d-8aa2-736e05e0be6b"
      },
      "source": [
        "abb= ArbolBinarioBusqueda()\r\n",
        "abb.insert(40)\r\n",
        "abb.insert(40)\r\n",
        "abb.insert(30)\r\n",
        "abb.insert(30)\r\n"
      ],
      "execution_count": 11,
      "outputs": [
        {
          "output_type": "stream",
          "text": [
            "El nodo ya existe, no se inserta:  40\n",
            "El nodo ya existe, no se inserta:  30\n"
          ],
          "name": "stdout"
        }
      ]
    }
  ]
}