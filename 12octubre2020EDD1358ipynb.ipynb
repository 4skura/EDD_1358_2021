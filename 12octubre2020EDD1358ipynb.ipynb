{
  "nbformat": 4,
  "nbformat_minor": 0,
  "metadata": {
    "colab": {
      "name": "12octubre2020EDD1358ipynb",
      "provenance": [],
      "authorship_tag": "ABX9TyOjQV7NyN5zko93SHJdILjF",
      "include_colab_link": true
    },
    "kernelspec": {
      "name": "python3",
      "display_name": "Python 3"
    }
  },
  "cells": [
    {
      "cell_type": "markdown",
      "metadata": {
        "id": "view-in-github",
        "colab_type": "text"
      },
      "source": [
        "<a href=\"https://colab.research.google.com/github/4skura/EDD_1358_2021/blob/master/12octubre2020EDD1358ipynb.ipynb\" target=\"_parent\"><img src=\"https://colab.research.google.com/assets/colab-badge.svg\" alt=\"Open In Colab\"/></a>"
      ]
    },
    {
      "cell_type": "code",
      "metadata": {
        "id": "How3xI5DWK_v",
        "outputId": "f301bb9e-25a5-47a1-a540-8a5636bf72b3",
        "colab": {
          "base_uri": "https://localhost:8080/",
          "height": 105
        }
      },
      "source": [
        "#Diccionarios parte 2\n",
        "cliente_banco = {\n",
        "    \"ID\":1,\n",
        "    \"nombres\":[\"Juan\", \"Antonio\"],\n",
        "    \"paterno\":\"Garcia\",\n",
        "    \"materno\":\"Perez\",\n",
        "    \"telefonos\":{\n",
        "        \"casa\":5566778899,\n",
        "        \"trabajo\":5566778889,\n",
        "        \"celular\":5544332211,\n",
        "    },\n",
        "    \"activo\":True,\n",
        "    \"balance\":123456.29,\n",
        "    \"tarjetas\":({\"tipo\":\"debito\",\"saldo\":12000},\n",
        "                {\"tipo\":\"credito\",\"saldo\":3500}),\n",
        "  }\n",
        "print(cliente_banco)\n",
        "\n",
        "#restar saldo del balance\n",
        "cliente_banco[\"balance\"]-=1000\n",
        "print(cliente_banco)\n",
        "\n",
        "#para modificar una tupla se debe reescribir completamente\n",
        "cliente_banco[\"tarjetas\"]=({\"tipo\":\"debito\",\"saldo\":12000},\n",
        "                {\"tipo\":\"credito\",\"saldo\":3500},\n",
        "                {\"tipo\":\"credito\",\"nivel\":\"oro\",\"saldo\":50000})\n",
        "print(cliente_banco)\n",
        "\n",
        "#agregar entradas al diccionario\n",
        "cliente_banco[\"direccion\"]={\"calle\":\"rancho seco\",\"num\":23}\n",
        "print(cliente_banco)\n",
        "\n"
      ],
      "execution_count": 12,
      "outputs": [
        {
          "output_type": "stream",
          "text": [
            "{'ID': 1, 'nombres': ['Juan', 'Antonio'], 'paterno': 'Garcia', 'materno': 'Perez', 'telefonos': {'casa': 5566778899, 'trabajo': 5566778889, 'celular': 5544332211}, 'activo': True, 'balance': 123456.29, 'tarjetas': ({'tipo': 'debito', 'saldo': 12000}, {'tipo': 'credito', 'saldo': 3500})}\n",
            "{'ID': 1, 'nombres': ['Juan', 'Antonio'], 'paterno': 'Garcia', 'materno': 'Perez', 'telefonos': {'casa': 5566778899, 'trabajo': 5566778889, 'celular': 5544332211}, 'activo': True, 'balance': 122456.29, 'tarjetas': ({'tipo': 'debito', 'saldo': 12000}, {'tipo': 'credito', 'saldo': 3500})}\n",
            "{'ID': 1, 'nombres': ['Juan', 'Antonio'], 'paterno': 'Garcia', 'materno': 'Perez', 'telefonos': {'casa': 5566778899, 'trabajo': 5566778889, 'celular': 5544332211}, 'activo': True, 'balance': 122456.29, 'tarjetas': ({'tipo': 'debito', 'saldo': 12000}, {'tipo': 'credito', 'saldo': 3500}, {'tipo': 'credito', 'nivel': 'oro', 'saldo': 50000})}\n",
            "{'ID': 1, 'nombres': ['Juan', 'Antonio'], 'paterno': 'Garcia', 'materno': 'Perez', 'telefonos': {'casa': 5566778899, 'trabajo': 5566778889, 'celular': 5544332211}, 'activo': True, 'balance': 122456.29, 'tarjetas': ({'tipo': 'debito', 'saldo': 12000}, {'tipo': 'credito', 'saldo': 3500}, {'tipo': 'credito', 'nivel': 'oro', 'saldo': 50000}), 'direccion': {'calle': 'rancho seco', 'num': 23}}\n"
          ],
          "name": "stdout"
        }
      ]
    },
    {
      "cell_type": "code",
      "metadata": {
        "id": "2To58V_Idhgz",
        "outputId": "8b4f516b-ceac-42f9-9aa9-54fb554c3fbb",
        "colab": {
          "base_uri": "https://localhost:8080/",
          "height": 510
        }
      },
      "source": [
        "llaves= cliente_banco.keys()\n",
        "print(llaves)\n",
        "print(type(llaves))\n",
        "\n",
        "#iterable para mostrar las keys en forma de lista\n",
        "for x in llaves:\n",
        "    print(x)\n",
        "\n",
        "#lo mismo pero con los valores\n",
        "valores= cliente_banco.values()\n",
        "for v in valores:\n",
        "  print(v)\n",
        "\n",
        "#pares\n",
        "pares= cliente_banco.items()\n",
        "for i in pares:\n",
        "  print(f\"{i[0]} = {i[1]}\")"
      ],
      "execution_count": 20,
      "outputs": [
        {
          "output_type": "stream",
          "text": [
            "dict_keys(['ID', 'nombres', 'paterno', 'materno', 'telefonos', 'activo', 'balance', 'tarjetas', 'direccion'])\n",
            "<class 'dict_keys'>\n",
            "ID\n",
            "nombres\n",
            "paterno\n",
            "materno\n",
            "telefonos\n",
            "activo\n",
            "balance\n",
            "tarjetas\n",
            "direccion\n",
            "1\n",
            "['Juan', 'Antonio']\n",
            "Garcia\n",
            "Perez\n",
            "{'casa': 5566778899, 'trabajo': 5566778889, 'celular': 5544332211}\n",
            "True\n",
            "122456.29\n",
            "({'tipo': 'debito', 'saldo': 12000}, {'tipo': 'credito', 'saldo': 3500}, {'tipo': 'credito', 'nivel': 'oro', 'saldo': 50000})\n",
            "{'calle': 'rancho seco', 'num': 23}\n",
            "ID = 1\n",
            "nombres = ['Juan', 'Antonio']\n",
            "paterno = Garcia\n",
            "materno = Perez\n",
            "telefonos = {'casa': 5566778899, 'trabajo': 5566778889, 'celular': 5544332211}\n",
            "activo = True\n",
            "balance = 122456.29\n",
            "tarjetas = ({'tipo': 'debito', 'saldo': 12000}, {'tipo': 'credito', 'saldo': 3500}, {'tipo': 'credito', 'nivel': 'oro', 'saldo': 50000})\n",
            "direccion = {'calle': 'rancho seco', 'num': 23}\n"
          ],
          "name": "stdout"
        }
      ]
    },
    {
      "cell_type": "code",
      "metadata": {
        "id": "YzMSE9bkhCNl",
        "outputId": "ec7ac1b9-59fe-439f-c19b-affa591be677",
        "colab": {
          "base_uri": "https://localhost:8080/",
          "height": 34
        }
      },
      "source": [
        "#combinar diccionarios con .update\n",
        "frutas= {\"nombre\":\"manzana\",\"color\":\"rojo\",\"edo_origen\":\"Chihuahua\"}\n",
        "otras_caracteristicas={\"vitamina\":\"D\"}\n",
        "frutas.update(otras_caracteristicas)\n",
        "print(frutas)"
      ],
      "execution_count": 22,
      "outputs": [
        {
          "output_type": "stream",
          "text": [
            "{'nombre': 'manzana', 'color': 'rojo', 'edo_origen': 'Chihuahua', 'vitamina': 'D'}\n"
          ],
          "name": "stdout"
        }
      ]
    },
    {
      "cell_type": "markdown",
      "metadata": {
        "id": "I5ts8P9EjBqH"
      },
      "source": [
        "#FUNCIONES\n",
        "####equivalentes de los metodos en java\n",
        "####regresa de 0 a n valores de entrada\n",
        "####regresa un solo valor, o ninguno, llamado None\n",
        "####tiene un nombre unico en el contexto\n",
        "####solo se pueden hacer dos cosas con funciones\n",
        "*definirla\n",
        "*llamarla"
      ]
    },
    {
      "cell_type": "code",
      "metadata": {
        "id": "XQXrkoIAibaY",
        "outputId": "a08fa1de-f2fc-454e-8471-d7dea6eeeb41",
        "colab": {
          "base_uri": "https://localhost:8080/",
          "height": 51
        }
      },
      "source": [
        "#FNCIONES\n",
        "def suma(a,b):\n",
        "    return a+b\n",
        "\n",
        "def saludo ():\n",
        "  print(\"Hola , como estas?\")\n",
        "  return None\n",
        "x=10\n",
        "y=20\n",
        "c=suma(x,y)\n",
        "\n",
        "#llamada a las funciones\n",
        "print(c)\n",
        "saludo()"
      ],
      "execution_count": 26,
      "outputs": [
        {
          "output_type": "stream",
          "text": [
            "30\n",
            "Hola , como estas?\n"
          ],
          "name": "stdout"
        }
      ]
    },
    {
      "cell_type": "markdown",
      "metadata": {
        "id": "Ec9rmzp0kwxm"
      },
      "source": [
        "#None y las funciones\n",
        "Aprovechar el uso de None en paso de parametros hacia la funcion\n",
        "####Util para encontrar errores"
      ]
    },
    {
      "cell_type": "code",
      "metadata": {
        "id": "JREAxx9xk5Xe",
        "outputId": "f58156e6-e07d-41be-ef2a-c8faa28b2651",
        "colab": {
          "base_uri": "https://localhost:8080/",
          "height": 51
        }
      },
      "source": [
        "def calcular(base, veces):\n",
        "  if base != None:\n",
        "    resultado= base*veces\n",
        "  else:\n",
        "    resultado=\"desconocido\"\n",
        "  return resultado\n",
        "\n",
        "print(calcular(4,3))\n",
        "print(calcular(None,3))"
      ],
      "execution_count": 29,
      "outputs": [
        {
          "output_type": "stream",
          "text": [
            "12\n",
            "desconocido\n"
          ],
          "name": "stdout"
        }
      ]
    }
  ]
}