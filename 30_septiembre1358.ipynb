{
  "nbformat": 4,
  "nbformat_minor": 0,
  "metadata": {
    "colab": {
      "name": "Untitled0.ipynb",
      "provenance": [],
      "authorship_tag": "ABX9TyPktXyTxSoRAVeyizui92cU",
      "include_colab_link": true
    },
    "kernelspec": {
      "name": "python3",
      "display_name": "Python 3"
    }
  },
  "cells": [
    {
      "cell_type": "markdown",
      "metadata": {
        "id": "view-in-github",
        "colab_type": "text"
      },
      "source": [
        "<a href=\"https://colab.research.google.com/github/4skura/EDD_1358_2021/blob/master/30_septiembre1358.ipynb\" target=\"_parent\"><img src=\"https://colab.research.google.com/assets/colab-badge.svg\" alt=\"Open In Colab\"/></a>"
      ]
    },
    {
      "cell_type": "markdown",
      "metadata": {
        "id": "xp3TmYWisoE1"
      },
      "source": [
        "# Fundamentos de Phyton\n",
        "edad = 13\n",
        "nombre = \"Luis\"\n",
        "estatura = 1.71\n",
        "tiene_ine = True\n",
        "\n",
        "### compuestos\n",
        "\n",
        "#### listas\n",
        "Son mutables\n",
        "Se accede a los elementos y al indice\n",
        "Los elementos pueden ser de diferente equipo\n",
        "lista_ejemplo = [\"manzana\", 1.71, True]\n",
        "\n",
        "#### tuplas\n",
        "Son inmutables\n",
        "Se accede mediante el indice\n",
        "Los elemeentos pueden ser de diferente tipo\n",
        "\n",
        "tupla_ejemplo = [\"root\", 128.128.128.128, \"abc1234\"]\n",
        "\n",
        "#### Diccionarios\n",
        "Son equivalentes de JSON de JS\n",
        "\n",
        "#### Sets\n",
        "Son datos agrupados\n"
      ]
    },
    {
      "cell_type": "code",
      "metadata": {
        "id": "UFfflxpwskhG",
        "outputId": "1dfbe6f0-f9d1-4852-fa54-51084c0cd533",
        "colab": {
          "base_uri": "https://localhost:8080/",
          "height": 187
        }
      },
      "source": [
        "lista_ejemplo = [\"manzana\", 1.71, True, [\"rojo\", \"azul\"]]\n",
        "print(lista_ejemplo[1])\n",
        "print(lista_ejemplo[3])\n",
        "print(lista_ejemplo[3][1])\n",
        "lista_ejemplo[0]= \"Manzana\"\n",
        "print(lista_ejemplo[0])\n",
        "\n",
        "# agregar elemento al final de la lista\n",
        "lista_ejemplo.append(\"iPhone\")\n",
        "print(lista_ejemplo)\n",
        "\n",
        "#sacar el ultimo elemento\n",
        "valor= lista_ejemplo.pop()\n",
        "print(valor)\n",
        "\n",
        "#documentacion del tipo de dato con dir y help\n",
        "#dir(list)\n",
        "#help(list)\n",
        "\n",
        "#insertar un dato a la lista\n",
        "lista_ejemplo.insert(1, \"Huawei\")\n",
        "print(lista_ejemplo)\n",
        "\n",
        "#contar elementos\n",
        "contar=lista_ejemplo.count(\"Huawei\")\n",
        "print(contar)\n",
        "\n",
        "#apend meter una lista dentro de otra\n",
        "colores=[\"rosa\", \"fucsia\", \"negro\"]\n",
        "lista_ejemplo.append(colores)\n",
        "print(lista_ejemplo)\n",
        "\n",
        "#con extend se fusionan las listas\n",
        "lista_ejemplo.extend(colores)\n",
        "print(lista_ejemplo)\n",
        "#se muestran colores, primero como una lista dentro de la otra, y luego como \n",
        "#si fueran elementos de la misma"
      ],
      "execution_count": 11,
      "outputs": [
        {
          "output_type": "stream",
          "text": [
            "1.71\n",
            "['rojo', 'azul']\n",
            "azul\n",
            "Manzana\n",
            "['Manzana', 1.71, True, ['rojo', 'azul'], 'iPhone']\n",
            "iPhone\n",
            "['Manzana', 'Huawei', 1.71, True, ['rojo', 'azul']]\n",
            "1\n",
            "['Manzana', 'Huawei', 1.71, True, ['rojo', 'azul'], ['rosa', 'fucsia', 'negro']]\n",
            "['Manzana', 'Huawei', 1.71, True, ['rojo', 'azul'], ['rosa', 'fucsia', 'negro'], 'rosa', 'fucsia', 'negro']\n"
          ],
          "name": "stdout"
        }
      ]
    }
  ]
}