{
  "nbformat": 4,
  "nbformat_minor": 0,
  "metadata": {
    "colab": {
      "name": "Untitled1.ipynb",
      "provenance": [],
      "authorship_tag": "ABX9TyO2V3tCOPcMkJpvWsOhh8cA",
      "include_colab_link": true
    },
    "kernelspec": {
      "name": "python3",
      "display_name": "Python 3"
    }
  },
  "cells": [
    {
      "cell_type": "markdown",
      "metadata": {
        "id": "view-in-github",
        "colab_type": "text"
      },
      "source": [
        "<a href=\"https://colab.research.google.com/github/4skura/EDD_1358_2021/blob/master/19uctubre2020EDD1358.ipynb\" target=\"_parent\"><img src=\"https://colab.research.google.com/assets/colab-badge.svg\" alt=\"Open In Colab\"/></a>"
      ]
    },
    {
      "cell_type": "code",
      "metadata": {
        "id": "YHVIZq8kaNaQ",
        "outputId": "fa9672d2-8c26-4c80-d0aa-f6266201370e",
        "colab": {
          "base_uri": "https://localhost:8080/",
          "height": 85
        }
      },
      "source": [
        "#Funcion read\n",
        "archivo= open(\"frutas.txt\",'rt')\n",
        "data =archivo.read()\n",
        "print(data.upper())\n",
        "archivo.close"
      ],
      "execution_count": 5,
      "outputs": [
        {
          "output_type": "stream",
          "text": [
            "LIMON, AGUACATE, FRESA , MANZANA\n",
            "CIRUELA, CAPULIN, NARANJA\n",
            "PERA, KIWI\n"
          ],
          "name": "stdout"
        },
        {
          "output_type": "execute_result",
          "data": {
            "text/plain": [
              "<function TextIOWrapper.close>"
            ]
          },
          "metadata": {
            "tags": []
          },
          "execution_count": 5
        }
      ]
    },
    {
      "cell_type": "code",
      "metadata": {
        "id": "p0vzh9NzeC_O",
        "outputId": "e694c138-90fc-4cd9-a79d-1559bce3c372",
        "colab": {
          "base_uri": "https://localhost:8080/",
          "height": 136
        }
      },
      "source": [
        "#Funcion readline\n",
        "#lee linea por linea, donde esta el cursor\n",
        "archivo= open(\"frutas.txt\",'rt')\n",
        "#si se repite el print mueve el cursor\n",
        "#si se llega al final del archivo deja de imprimir\n",
        "print(archivo.readline())\n",
        "print(archivo.readline())\n",
        "print(archivo.readline())\n",
        "print(archivo.readline())\n",
        "archivo.close"
      ],
      "execution_count": 10,
      "outputs": [
        {
          "output_type": "stream",
          "text": [
            "limon, aguacate, fresa , manzana\n",
            "\n",
            "ciruela, capulin, naranja\n",
            "\n",
            "pera, kiwi\n",
            "\n"
          ],
          "name": "stdout"
        },
        {
          "output_type": "execute_result",
          "data": {
            "text/plain": [
              "<function TextIOWrapper.close>"
            ]
          },
          "metadata": {
            "tags": []
          },
          "execution_count": 10
        }
      ]
    },
    {
      "cell_type": "code",
      "metadata": {
        "id": "VTDK3AfrgBs5",
        "outputId": "7ea8c1a0-72cc-4af7-a9f3-64837e92f529",
        "colab": {
          "base_uri": "https://localhost:8080/",
          "height": 105
        }
      },
      "source": [
        "#readlines\n",
        "archivo= open('frutas.txt','rt')\n",
        "data=archivo.readlines()\n",
        "#readlines crea autamitcamente listas\n",
        "#crea un elemento por cada linea del archivo\n",
        "print(data)\n",
        "\n",
        "#separar los datos\n",
        "frutas=[]\n",
        "for linea in data:\n",
        "  frutas.append(linea.strip())\n",
        "print(frutas)\n",
        "frutas_final=[]\n",
        "for elem in frutas:\n",
        "  for fruta in elem.split(','):\n",
        "    frutas_final.append(fruta.strip( ))\n",
        "print(frutas_final)\n",
        "\n",
        "archivo.close"
      ],
      "execution_count": 15,
      "outputs": [
        {
          "output_type": "stream",
          "text": [
            "['limon, aguacate, fresa , manzana\\n', 'ciruela, capulin, naranja\\n', 'pera, kiwi']\n",
            "['limon, aguacate, fresa , manzana', 'ciruela, capulin, naranja', 'pera, kiwi']\n",
            "['limon', 'aguacate', 'fresa', 'manzana', 'ciruela', 'capulin', 'naranja', 'pera', 'kiwi']\n"
          ],
          "name": "stdout"
        },
        {
          "output_type": "execute_result",
          "data": {
            "text/plain": [
              "<function TextIOWrapper.close>"
            ]
          },
          "metadata": {
            "tags": []
          },
          "execution_count": 15
        }
      ]
    },
    {
      "cell_type": "markdown",
      "metadata": {
        "id": "m-m5im7PlK_N"
      },
      "source": [
        "#POO en Python\n",
        "- clases\n",
        "- objetos\n",
        "- atributos\n",
        "- metodos\n",
        "- metodo constructor\n",
        "- encapsulamiento\n",
        "- herencia\n",
        "\n",
        "###Para declara clases en Python se usa la palabra reservada class\n",
        "\n",
        "\n",
        "\n"
      ]
    },
    {
      "cell_type": "code",
      "metadata": {
        "id": "1tXwjaexlKoP",
        "outputId": "194e2d68-7d19-4fc5-e3c0-93cc08a71be1",
        "colab": {
          "base_uri": "https://localhost:8080/",
          "height": 34
        }
      },
      "source": [
        "class persona:\n",
        "    def __init__( self, edad, estatura ):\n",
        "      #con doble guion bajo se hace un atributo privado\n",
        "      self.__edad=0\n",
        "      self.__estatura=0.0\n",
        "\n",
        "    def to_string( self ):\n",
        "      print(f\"Edad: {self.__edad}, estatura: {self.__estatura}\")\n",
        "\n",
        "#llamada con el constructor sobrecargado\n",
        "per1 = persona(23,1.78)\n",
        "per1.to_string()"
      ],
      "execution_count": 24,
      "outputs": [
        {
          "output_type": "stream",
          "text": [
            "Edad: 0, estatura: 0.0\n"
          ],
          "name": "stdout"
        }
      ]
    }
  ]
}