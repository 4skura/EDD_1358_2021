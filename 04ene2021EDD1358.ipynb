{
  "nbformat": 4,
  "nbformat_minor": 0,
  "metadata": {
    "colab": {
      "name": "04ene2021EDD1358.ipynb",
      "provenance": [],
      "authorship_tag": "ABX9TyNxsqYYWnP3uIK1zcn6BXzJ",
      "include_colab_link": true
    },
    "kernelspec": {
      "name": "python3",
      "display_name": "Python 3"
    }
  },
  "cells": [
    {
      "cell_type": "markdown",
      "metadata": {
        "id": "view-in-github",
        "colab_type": "text"
      },
      "source": [
        "<a href=\"https://colab.research.google.com/github/4skura/EDD_1358_2021/blob/master/04ene2021EDD1358.ipynb\" target=\"_parent\"><img src=\"https://colab.research.google.com/assets/colab-badge.svg\" alt=\"Open In Colab\"/></a>"
      ]
    },
    {
      "cell_type": "code",
      "metadata": {
        "id": "1MsafojwLd1X"
      },
      "source": [
        "class Queue:\r\n",
        "  def __init__(self):\r\n",
        "    self.__data= list()\r\n",
        "\r\n",
        "  def is_empty(self):\r\n",
        "    return len(self.__data)== 0\r\n",
        "\r\n",
        "  def lenght(self):\r\n",
        "    return len(self.__data)\r\n",
        "\r\n",
        "  def enqueue(self, item):\r\n",
        "    self.__data.append(item)\r\n",
        "\r\n",
        "  def dequeue(self):\r\n",
        "    if not self.is_empty():\r\n",
        "      return self.__data.pop(0)\r\n",
        "    else:\r\n",
        "      return None\r\n",
        "\r\n",
        "  def to_string(self):\r\n",
        "    for elem  in self.__data:\r\n",
        "      print(f\"| { elem } \",end=\"\")\r\n",
        "    print(\"|\")"
      ],
      "execution_count": 4,
      "outputs": []
    },
    {
      "cell_type": "code",
      "metadata": {
        "colab": {
          "base_uri": "https://localhost:8080/"
        },
        "id": "fuosXjMXR4pt",
        "outputId": "8442fcf2-f35b-437a-8834-4f7d6632362a"
      },
      "source": [
        "cola = Queue()\r\n",
        "\r\n",
        "cola.enqueue(10)\r\n",
        "cola.enqueue(2)\r\n",
        "cola.enqueue(20)\r\n",
        "cola.enqueue(110)\r\n",
        "cola.enqueue(5)\r\n",
        "\r\n",
        "cola.to_string()\r\n",
        "\r\n",
        "#añadir elemento\r\n",
        "cola.enqueue(44)\r\n",
        "cola.to_string()\r\n",
        "\r\n",
        "#sacar elemento\r\n",
        "elem= cola.dequeue()\r\n",
        "print(f\"El elemento es {elem}\")\r\n",
        "cola.to_string()\r\n",
        "\r\n",
        "#sacar elemento\r\n",
        "elem= cola.dequeue()\r\n",
        "print(f\"El elemento es {elem}\")\r\n",
        "cola.to_string()"
      ],
      "execution_count": 7,
      "outputs": [
        {
          "output_type": "stream",
          "text": [
            "| 10 | 2 | 20 | 110 | 5 |\n",
            "| 10 | 2 | 20 | 110 | 5 | 44 |\n",
            "El elemento es 10\n",
            "| 2 | 20 | 110 | 5 | 44 |\n",
            "El elemento es 2\n",
            "| 20 | 110 | 5 | 44 |\n"
          ],
          "name": "stdout"
        }
      ]
    },
    {
      "cell_type": "code",
      "metadata": {
        "colab": {
          "base_uri": "https://localhost:8080/"
        },
        "id": "kk88ZSclVV-z",
        "outputId": "d4185509-b238-4f31-a81a-0b61bcb06d07"
      },
      "source": [
        "c1 = { \"id\" : 1 , \"nombre\":\"Jose\" , \"balance\":2345654.99}\r\n",
        "c2 = { \"id\" : 2 , \"nombre\":\"Maria\" , \"balance\":2323.01}\r\n",
        "c3 = { \"id\" : 3 , \"nombre\":\"Jesus\" , \"balance\":333.55}\r\n",
        "\r\n",
        "queue = Queue()\r\n",
        "queue.enqueue(c1)\r\n",
        "queue.enqueue(c2)\r\n",
        "queue.enqueue(c3)\r\n",
        "queue.to_string()\r\n",
        "\r\n",
        "a_atender = queue.dequeue()\r\n",
        "print(f\"Hola señor {a_atender['nombre']}, que tramite desea hacer?\")"
      ],
      "execution_count": 9,
      "outputs": [
        {
          "output_type": "stream",
          "text": [
            "| {'id': 1, 'nombre': 'Jose', 'balance': 2345654.99} | {'id': 2, 'nombre': 'Maria', 'balance': 2323.01} | {'id': 3, 'nombre': 'Jesus', 'balance': 333.55} |\n",
            "Hola señor Jose, que tramite desea hacer?\n"
          ],
          "name": "stdout"
        }
      ]
    }
  ]
}