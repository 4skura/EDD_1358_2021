{
  "nbformat": 4,
  "nbformat_minor": 0,
  "metadata": {
    "colab": {
      "name": "9noviembre2020EDD1358.ipynb",
      "provenance": [],
      "authorship_tag": "ABX9TyMLxXwN5iotwWOlbQ/x6F3g",
      "include_colab_link": true
    },
    "kernelspec": {
      "name": "python3",
      "display_name": "Python 3"
    }
  },
  "cells": [
    {
      "cell_type": "markdown",
      "metadata": {
        "id": "view-in-github",
        "colab_type": "text"
      },
      "source": [
        "<a href=\"https://colab.research.google.com/github/4skura/EDD_1358_2021/blob/master/9noviembre2020EDD1358.ipynb\" target=\"_parent\"><img src=\"https://colab.research.google.com/assets/colab-badge.svg\" alt=\"Open In Colab\"/></a>"
      ]
    },
    {
      "cell_type": "code",
      "metadata": {
        "id": "1_gHiJ7w4tvB",
        "outputId": "a46ab59c-e02b-47d6-d196-8bbce4d4f561",
        "colab": {
          "base_uri": "https://localhost:8080/",
          "height": 256
        }
      },
      "source": [
        "class Nodo:\n",
        "  def __init__ (self, dato):\n",
        "    self.__dato=dato\n",
        "    self.__siguiente= None\n",
        "\n",
        "  def get_dato (self):\n",
        "    return self.__dato\n",
        "\n",
        "  def set_dato (self, d):\n",
        "    self.__dato=d\n",
        "\n",
        "  def get_siguiente(self):\n",
        "    return self.__siguiente\n",
        "\n",
        "  def set_siguiente(self,d):\n",
        "    self.__siguiente=d\n",
        "\n",
        "  def show( self ):\n",
        "        curr_node = self # Head\n",
        "        print(\" Inicio de la estructura ligada:\")\n",
        "        print(\"|\" + str(curr_node.get_dato()) + \"| -->\" , end =\"\" )\n",
        "        while( curr_node.get_siguiente() != None ):\n",
        "            curr_node = curr_node.get_siguiente()\n",
        "            print(\"|\" + str(curr_node.get_dato() ) + \"| -->\" , end =\"\" )\n",
        "        print(\"\\nFin\")\n",
        "        \n",
        "\n",
        "# ejemplo 1\n",
        "a = Nodo( 10 )\n",
        "print(a.show())\n",
        "\n",
        "# ejemplo 2\n",
        "b= Nodo( 20 )\n",
        "a.set_siguiente( b )\n",
        "print(a.show())\n",
        "\n",
        "# ejemplo 3\n",
        "c= Nodo( 30 )\n",
        "b.set_siguiente(c)\n",
        "print(a.show())\n",
        "\n",
        "\"\"\"\n",
        "  def to_string (self):\n",
        "    return '|'+ str(self.__dato) + '|' + str(self.__siguiente) + '--->'\n",
        "\n",
        "#ejemplo 1\n",
        "a= Nodo(10)\n",
        "print(a.to_string())\n",
        "\n",
        "#ejemplo 2\n",
        "a.set_siguiente(20)\n",
        "print(a.to_string())\n",
        "\n",
        "#ejemplo 3\n",
        "\"\"\""
      ],
      "execution_count": 24,
      "outputs": [
        {
          "output_type": "stream",
          "text": [
            " Inicio de la estructura ligada:\n",
            "|10| -->\n",
            "Fin\n",
            "None\n",
            " Inicio de la estructura ligada:\n",
            "|10| -->|20| -->\n",
            "Fin\n",
            "None\n",
            " Inicio de la estructura ligada:\n",
            "|10| -->|20| -->|30| -->\n",
            "Fin\n",
            "None\n"
          ],
          "name": "stdout"
        },
        {
          "output_type": "execute_result",
          "data": {
            "application/vnd.google.colaboratory.intrinsic+json": {
              "type": "string"
            },
            "text/plain": [
              "\"\\n  def to_string (self):\\n    return '|'+ str(self.__dato) + '|' + str(self.__siguiente) + '--->'\\n\\n#ejemplo 1\\na= Nodo(10)\\nprint(a.to_string())\\n\\n#ejemplo 2\\na.set_siguiente(20)\\nprint(a.to_string())\\n\\n#ejemplo 3\\n\""
            ]
          },
          "metadata": {
            "tags": []
          },
          "execution_count": 24
        }
      ]
    }
  ]
}