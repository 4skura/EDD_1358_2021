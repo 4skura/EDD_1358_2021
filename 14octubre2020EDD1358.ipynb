{
  "nbformat": 4,
  "nbformat_minor": 0,
  "metadata": {
    "colab": {
      "name": "14octubre2020EDD1358.ipynb",
      "provenance": [],
      "toc_visible": true,
      "authorship_tag": "ABX9TyOWrjHZESCl1D6I4UmEm/mV",
      "include_colab_link": true
    },
    "kernelspec": {
      "name": "python3",
      "display_name": "Python 3"
    }
  },
  "cells": [
    {
      "cell_type": "markdown",
      "metadata": {
        "id": "view-in-github",
        "colab_type": "text"
      },
      "source": [
        "<a href=\"https://colab.research.google.com/github/4skura/EDD_1358_2021/blob/master/14octubre2020EDD1358.ipynb\" target=\"_parent\"><img src=\"https://colab.research.google.com/assets/colab-badge.svg\" alt=\"Open In Colab\"/></a>"
      ]
    },
    {
      "cell_type": "code",
      "metadata": {
        "id": "8AO0U9lspQvL",
        "outputId": "b5335cae-d349-4a1a-8e1f-8385343a87e1",
        "colab": {
          "base_uri": "https://localhost:8080/",
          "height": 85
        }
      },
      "source": [
        "#FUNCIONES\n",
        "def calcular(a,b,c):\n",
        "  x=a+(b/c)\n",
        "  return x\n",
        "\n",
        "print(calcular(5,9,3))\n",
        "#por defecto es a,b,c, pero puede alterarse el orden\n",
        "print(calcular(a=5,c=3,b=9))\n",
        "\n",
        "def calcular_v2(a=10 ,b=20, c=5):\n",
        "  x= a+(b/c)\n",
        "  return x\n",
        "\n",
        "#en la funcion se pueden declarar valores por defecto\n",
        "print(calcular_v2())\n",
        "#o pueden ser modificados uno o mas, en este caso a y b\n",
        "#de forma implicita o explicita\n",
        "print(calcular_v2(40,b=8))\n"
      ],
      "execution_count": null,
      "outputs": [
        {
          "output_type": "stream",
          "text": [
            "8.0\n",
            "8.0\n",
            "14.0\n",
            "41.6\n"
          ],
          "name": "stdout"
        }
      ]
    },
    {
      "cell_type": "markdown",
      "metadata": {
        "id": "ayThInTdru5_"
      },
      "source": [
        "#argumentos a funciones por tupla\n",
        "Se envian los argumentos en un conjuntos de elementos dentro de una tupla"
      ]
    },
    {
      "cell_type": "code",
      "metadata": {
        "id": "2HyGmMNOsDwU",
        "outputId": "9316049e-8916-4335-b4c2-93869aa66b09",
        "colab": {
          "base_uri": "https://localhost:8080/",
          "height": 51
        }
      },
      "source": [
        "def calculo (*elem):\n",
        "  print(elem)\n",
        "  x= elem[0]+ (elem[1]/elem[2])\n",
        "  return x\n",
        "\n",
        "print(calculo(5,9,3))               \n"
      ],
      "execution_count": null,
      "outputs": [
        {
          "output_type": "stream",
          "text": [
            "(5, 9, 3)\n",
            "8.0\n"
          ],
          "name": "stdout"
        }
      ]
    },
    {
      "cell_type": "markdown",
      "metadata": {
        "id": "EaNFYcCas0vz"
      },
      "source": [
        "#Argumentos como diccioario"
      ]
    },
    {
      "cell_type": "code",
      "metadata": {
        "id": "D7x0lE1ps3gk",
        "outputId": "0524e22a-63c8-418a-aafc-5b5e59cbc2d6",
        "colab": {
          "base_uri": "https://localhost:8080/",
          "height": 51
        }
      },
      "source": [
        "def calculo2(**elem):\n",
        "  print(elem)\n",
        "  x= elem['a']+(elem['b']/elem['c'])\n",
        "  return x\n",
        "\n",
        "print(calculo2(a=5,b=9,c=3))"
      ],
      "execution_count": null,
      "outputs": [
        {
          "output_type": "stream",
          "text": [
            "{'a': 5, 'b': 9, 'c': 3}\n",
            "8.0\n"
          ],
          "name": "stdout"
        }
      ]
    },
    {
      "cell_type": "markdown",
      "metadata": {
        "id": "XMVStbmW2jBl"
      },
      "source": [
        "#ARCHIVOS\n",
        "\n",
        "\n",
        "1.   abrirlos\n",
        "un strig con la ruta del archivo\n",
        "dos caracteres:1 modo de apertura(r,w)y dos el formato(texto, binario)\n",
        "2.   Modificarlos\n",
        "\n"
      ]
    },
    {
      "cell_type": "code",
      "metadata": {
        "id": "ffdN0eZw3Kno",
        "outputId": "5716184e-cd3f-424e-e2f4-7f073f6d0196",
        "colab": {
          "base_uri": "https://localhost:8080/",
          "height": 34
        }
      },
      "source": [
        "archivo=open('ejemplo.txt',\"wt\")\n",
        "archivo.write('Hola mundo de archivos')\n",
        "archivo.close"
      ],
      "execution_count": null,
      "outputs": [
        {
          "output_type": "execute_result",
          "data": {
            "text/plain": [
              "<function TextIOWrapper.close>"
            ]
          },
          "metadata": {
            "tags": []
          },
          "execution_count": 18
        }
      ]
    },
    {
      "cell_type": "code",
      "metadata": {
        "id": "Boythv8a4Z6j",
        "outputId": "3aa81acf-d562-40d0-ec31-40bf78376ea0",
        "colab": {
          "base_uri": "https://localhost:8080/",
          "height": 129
        }
      },
      "source": [
        "#archivos y caprteas\n",
        "#la consola acepta comando de linux para manipular archivos\n"
      ],
      "execution_count": 29,
      "outputs": [
        {
          "output_type": "error",
          "ename": "SyntaxError",
          "evalue": "ignored",
          "traceback": [
            "\u001b[0;36m  File \u001b[0;32m\"<ipython-input-29-2f14d8ec0099>\"\u001b[0;36m, line \u001b[0;32m2\u001b[0m\n\u001b[0;31m    cat ejemplo.txt\u001b[0m\n\u001b[0m              ^\u001b[0m\n\u001b[0;31mSyntaxError\u001b[0m\u001b[0;31m:\u001b[0m invalid syntax\n"
          ]
        }
      ]
    }
  ]
}