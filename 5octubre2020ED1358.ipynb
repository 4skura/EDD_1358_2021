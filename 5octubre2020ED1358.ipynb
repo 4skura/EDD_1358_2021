{
  "nbformat": 4,
  "nbformat_minor": 0,
  "metadata": {
    "colab": {
      "name": "5octubre2020ED1358.ipynb",
      "provenance": [],
      "authorship_tag": "ABX9TyOhfoRl9fS91b42GtTMhfky",
      "include_colab_link": true
    },
    "kernelspec": {
      "name": "python3",
      "display_name": "Python 3"
    }
  },
  "cells": [
    {
      "cell_type": "markdown",
      "metadata": {
        "id": "view-in-github",
        "colab_type": "text"
      },
      "source": [
        "<a href=\"https://colab.research.google.com/github/4skura/EDD_1358_2021/blob/master/5octubre2020ED1358.ipynb\" target=\"_parent\"><img src=\"https://colab.research.google.com/assets/colab-badge.svg\" alt=\"Open In Colab\"/></a>"
      ]
    },
    {
      "cell_type": "code",
      "metadata": {
        "id": "TvG0gW0pS8v3"
      },
      "source": [
        ""
      ],
      "execution_count": null,
      "outputs": []
    },
    {
      "cell_type": "code",
      "metadata": {
        "id": "Xz70361ITiO-",
        "outputId": "7c02aeef-c64a-43f3-8e84-67eded353b0c",
        "colab": {
          "base_uri": "https://localhost:8080/",
          "height": 85
        }
      },
      "source": [
        "#algunos tipos de print con datos\n",
        "precio= 12.5\n",
        "cantidad= 2\n",
        "existencia= True\n",
        "\n",
        "#precio de los Cheetos es de 12.5 y quiero 2, hay?: True\n",
        "print(\"El precio de los chetos es de: \", precio, \" y quiero comprar \", cantidad,\", hay existencia?\", True)\n",
        "\n",
        "#usar la funcion format de la clase string para ser mas eficiente el codigo\n",
        "print(\"El precio de los Cheetos es de: {} y quiero comprar {}, hay existencia? {}\".format(precio, cantidad, existencia))\n",
        "#esto crea un indice que puede ayudar a poner los datos en cualquier orden\n",
        "print(\"El precio de los Cheetos es de: {2} y quiero comprar {1}, hay existencia? {0}\".format(precio, cantidad, existencia))\n",
        "\n",
        "#operador f\"\"\n",
        "print(f\"El precio de los Cheetos es de: {precio} y quiero comprar {cantidad}, hay existencia? {existencia}\")\n"
      ],
      "execution_count": 4,
      "outputs": [
        {
          "output_type": "stream",
          "text": [
            "El precio de los chetos es de:  12.5  y quiero comprar  2 , hay existencia? True\n",
            "El precio de los Cheetos es de: 12.5 y quiero comprar 2, hay existencia? True\n",
            "El precio de los Cheetos es de: True y quiero comprar 2, hay existencia? 12.5\n",
            "El precio de los Cheetos es de: 12.5 y quiero comprar 2, hay existencia? True\n"
          ],
          "name": "stdout"
        }
      ]
    },
    {
      "cell_type": "markdown",
      "metadata": {
        "id": "ofpviuk6VRZ8"
      },
      "source": [
        "#Listas\n",
        "####Se declaran con conchetes cuadrados\n",
        "####selector [ ] mutable\n",
        "\n",
        "#Tuplas\n",
        "####similar a las listas, pero no son mutables\n",
        "####declaracion ( ) selector[ ] no mutable\n",
        "\n",
        "#Diccionarios\n",
        "####Conjuntos de datos en pares de llave:valor\n",
        "son mutables al igual que las listas\n",
        "equivalentes a los objetos de JSON de JavaScript\n",
        "\n",
        "#Conjuntos\n",
        "son un grupo de objetos con la teoria de conjuntos, se pueden realizar operaciones de conjuntos"
      ]
    },
    {
      "cell_type": "code",
      "metadata": {
        "id": "N5DOzyUSZZGx",
        "outputId": "100841d6-7518-4600-e691-d36b11110e11",
        "colab": {
          "base_uri": "https://localhost:8080/",
          "height": 425
        }
      },
      "source": [
        "#listas\n",
        "materias= [\"CyP\", \"DAA\", \"EDD\", \"IS\", \"POO\"]\n",
        "print(materias)\n",
        "\n",
        "#uso de selector para imprimir un solo dato\n",
        "print(materias[2])\n",
        "print(materias[-1])\n",
        "print(materias[4])\n",
        "print(materias[::-1])\n",
        "\n",
        "#crear una lista a partir de un String\n",
        "fecha=\"5/octubre/2020\"\n",
        "lista_fecha=fecha.split(\"/\")\n",
        "print(fecha)\n",
        "print(lista_fecha)\n",
        "\n",
        "#Crear un string a partir de una lista\n",
        "lista_a_hora=['15','22','30']\n",
        "hora=\":\".join(lista_a_hora)\n",
        "print(lista_a_hora)\n",
        "print(hora)\n",
        "\n",
        "print(\"--------------------\")\n",
        "print(materias)\n",
        "print(lista_fecha)\n",
        "print(lista_a_hora)\n",
        "\n",
        "#son mutables por que se pueden modificar\n",
        "materias [0]=\"Computadoras y Programacion\"\n",
        "print(materias)\n",
        "#agregar datos\n",
        "materias.append(\"Calidad\")\n",
        "print(materias)\n",
        "\n",
        "#insertar datos en un indice deseado\n",
        "materias.insert (2, \"Emprendimiento\")\n",
        "print(materias)\n",
        "\n",
        "#pop saca un elemento de la lista, por defecto el ultimo dato\n",
        "materia_pop=materias.pop ()\n",
        "print(materia_pop)\n",
        "print(materias)\n",
        "#se puede especificar el dato a extraer\n",
        "materia_pop=materias.pop(1)\n",
        "print(materia_pop)\n",
        "print(materias)\n",
        "\n",
        "#vaciar una lista\n",
        "materias.clear()\n",
        "print(materias)\n",
        "\n",
        "#slicing\n",
        "numeros=[0,1,2,3,4,5,6,7,8,9]\n",
        "print(numeros)\n",
        "print(numeros[4:9:1])\n",
        "numeros[4:9:1]=[-2]\n",
        "print(numeros)"
      ],
      "execution_count": 28,
      "outputs": [
        {
          "output_type": "stream",
          "text": [
            "['CyP', 'DAA', 'EDD', 'IS', 'POO']\n",
            "EDD\n",
            "POO\n",
            "POO\n",
            "['POO', 'IS', 'EDD', 'DAA', 'CyP']\n",
            "5/octubre/2020\n",
            "['5', 'octubre', '2020']\n",
            "['15', '22', '30']\n",
            "15:22:30\n",
            "--------------------\n",
            "['CyP', 'DAA', 'EDD', 'IS', 'POO']\n",
            "['5', 'octubre', '2020']\n",
            "['15', '22', '30']\n",
            "['Computadoras y Programacion', 'DAA', 'EDD', 'IS', 'POO']\n",
            "['Computadoras y Programacion', 'DAA', 'EDD', 'IS', 'POO', 'Calidad']\n",
            "['Computadoras y Programacion', 'DAA', 'Emprendimiento', 'EDD', 'IS', 'POO', 'Calidad']\n",
            "Calidad\n",
            "['Computadoras y Programacion', 'DAA', 'Emprendimiento', 'EDD', 'IS', 'POO']\n",
            "DAA\n",
            "['Computadoras y Programacion', 'Emprendimiento', 'EDD', 'IS', 'POO']\n",
            "[]\n",
            "[0, 1, 2, 3, 4, 5, 6, 7, 8, 9]\n",
            "[4, 5, 6, 7, 8]\n",
            "[0, 1, 2, 3, -2, 9]\n"
          ],
          "name": "stdout"
        }
      ]
    },
    {
      "cell_type": "code",
      "metadata": {
        "id": "I8fGmcBPiL5d",
        "outputId": "05bfe313-e301-4bc3-9cd7-3e17be6e1758",
        "colab": {
          "base_uri": "https://localhost:8080/",
          "height": 71
        }
      },
      "source": [
        "#listas bidimensionales\n",
        "autos=[\"mazda\", \"honda\", \"Acura\", \"Ford\", \"vw\"]\n",
        "telefonos=[\"iPhone\", \"Huawuei mate\", \"Xiamo s10\", \"Alcatel t1000\"]\n",
        "sistemas_operativos=[\"windows\", \"Lunux\",\"Android\", \"iOS\", \"MacOs\"]\n",
        "lista_2d= [autos, telefonos, sistemas_operativos]\n",
        "#imprimir las listas\n",
        "print(lista_2d)\n",
        "#imprimir un solo elemento\n",
        "print(lista_2d[1][1])"
      ],
      "execution_count": 30,
      "outputs": [
        {
          "output_type": "stream",
          "text": [
            "[['mazda', 'honda', 'Acura', 'Ford', 'vw'], ['iPhone', 'Huawue mate', 'Xiamo s10', 'Alcatel t1000'], ['windows', 'Lunux', 'Android', 'iOS', 'MacOs']]\n",
            "Huawue mate\n"
          ],
          "name": "stdout"
        }
      ]
    }
  ]
}