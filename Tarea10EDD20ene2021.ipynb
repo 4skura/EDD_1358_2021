{
  "nbformat": 4,
  "nbformat_minor": 0,
  "metadata": {
    "colab": {
      "name": "Tarea10EDD20ene2021.ipynb",
      "provenance": [],
      "authorship_tag": "ABX9TyMCwSpksJ4vl8ULSzIyhotk",
      "include_colab_link": true
    },
    "kernelspec": {
      "name": "python3",
      "display_name": "Python 3"
    }
  },
  "cells": [
    {
      "cell_type": "markdown",
      "metadata": {
        "id": "view-in-github",
        "colab_type": "text"
      },
      "source": [
        "<a href=\"https://colab.research.google.com/github/4skura/EDD_1358_2021/blob/master/Tarea10EDD20ene2021.ipynb\" target=\"_parent\"><img src=\"https://colab.research.google.com/assets/colab-badge.svg\" alt=\"Open In Colab\"/></a>"
      ]
    },
    {
      "cell_type": "code",
      "metadata": {
        "id": "Yd1C63lu_EmO",
        "colab": {
          "base_uri": "https://localhost:8080/"
        },
        "outputId": "decc637b-3a48-4915-caea-bba20d3ae523"
      },
      "source": [
        "#suma con recursividad\r\n",
        "def suma(lista):\r\n",
        "  sumaAct=0\r\n",
        "  if len(lista) == 0:\r\n",
        "    return 'Lista Vacia'\r\n",
        "  else:\r\n",
        "    for x in lista:\r\n",
        "      sumaAct += x\r\n",
        "    return sumaAct\r\n",
        "\r\n",
        "print(suma([]))\r\n",
        "print(suma([2,4,6,8,10]))"
      ],
      "execution_count": 116,
      "outputs": [
        {
          "output_type": "stream",
          "text": [
            "Lista Vacia\n",
            "30\n"
          ],
          "name": "stdout"
        }
      ]
    },
    {
      "cell_type": "code",
      "metadata": {
        "colab": {
          "base_uri": "https://localhost:8080/"
        },
        "id": "JpsDf5GfHUZo",
        "outputId": "40c3344e-d52c-4d00-d664-9e5ff9302330"
      },
      "source": [
        "#Cuenta regresiva\r\n",
        "def CuentaRegresiva(n):\r\n",
        "  while n > 0:\r\n",
        "    print(n)\r\n",
        "    n-=1\r\n",
        "  print(\"0\\nEl tiempo se acabo!\")\r\n",
        "\r\n",
        "CuentaRegresiva(10)"
      ],
      "execution_count": 28,
      "outputs": [
        {
          "output_type": "stream",
          "text": [
            "10\n",
            "9\n",
            "8\n",
            "7\n",
            "6\n",
            "5\n",
            "4\n",
            "3\n",
            "2\n",
            "1\n",
            "0\n",
            "El tiempo se acabo!\n"
          ],
          "name": "stdout"
        }
      ]
    },
    {
      "cell_type": "code",
      "metadata": {
        "id": "WEgiw288Jx07"
      },
      "source": [
        "#ADT Stack\r\n",
        "class Stack:\r\n",
        "  def __init__( self ):\r\n",
        "    self.__data = []\r\n",
        "    self.__size = 0\r\n",
        "\r\n",
        "  def pop( self ):\r\n",
        "    self.__size -=1\r\n",
        "    return self.__data.pop()\r\n",
        "\r\n",
        "  def get_size( self ):\r\n",
        "    return self.__size\r\n",
        "\r\n",
        "  def peek( self ):\r\n",
        "    return self.__data[-1]\r\n",
        "\r\n",
        "  def push (self, value ):\r\n",
        "    self.__size +=1\r\n",
        "    return self.__data.append( value )\r\n",
        "\r\n",
        "  def to_string( self ):\r\n",
        "    print(\"-------\")\r\n",
        "    for dato in self.__data[ : :-1]:\r\n",
        "      print( f\"| { dato } |\")\r\n",
        "      print(\"-------\")"
      ],
      "execution_count": 114,
      "outputs": []
    },
    {
      "cell_type": "code",
      "metadata": {
        "colab": {
          "base_uri": "https://localhost:8080/"
        },
        "id": "0q3tov5bJ-3e",
        "outputId": "6d50a691-93f6-40e6-ab3e-f0dce573fa42"
      },
      "source": [
        "#Obtener el valor medio de un ADT Stack\r\n",
        "def valorMedio( n ):\r\n",
        "  pilaTemp = Stack()\r\n",
        "  cont = 0\r\n",
        "  x = (n.get_size())/2\r\n",
        "  res = (n.get_size())%2\r\n",
        "  if res == 1:\r\n",
        "    x-= 0.5\r\n",
        "  while (x != 0):\r\n",
        "    pilaTemp.push(n.pop())\r\n",
        "    x-= 1\r\n",
        "    cont = cont+1\r\n",
        "  valor = n.pop()\r\n",
        "  while (cont != 0):\r\n",
        "    n.push(pilaTemp.pop())\r\n",
        "    cont = cont -1\r\n",
        "  print(f\"El valor medio es: {valor}\\n\")\r\n",
        "\r\n",
        "\r\n",
        "pila= Stack()\r\n",
        "pila.push(5)\r\n",
        "pila.push(10)\r\n",
        "pila.push(20)\r\n",
        "pila.push(40)\r\n",
        "pila.push(60)\r\n",
        "pila.push(80)\r\n",
        "pila.push(100)\r\n",
        "pila.to_string()\r\n",
        "valorMedio(pila)\r\n",
        "pila.to_string()\r\n",
        "valorMedio(pila)\r\n",
        "pila.to_string()"
      ],
      "execution_count": 115,
      "outputs": [
        {
          "output_type": "stream",
          "text": [
            "-------\n",
            "| 100 |\n",
            "-------\n",
            "| 80 |\n",
            "-------\n",
            "| 60 |\n",
            "-------\n",
            "| 40 |\n",
            "-------\n",
            "| 20 |\n",
            "-------\n",
            "| 10 |\n",
            "-------\n",
            "| 5 |\n",
            "-------\n",
            "El valor medio es: 40\n",
            "\n",
            "-------\n",
            "| 100 |\n",
            "-------\n",
            "| 80 |\n",
            "-------\n",
            "| 60 |\n",
            "-------\n",
            "| 20 |\n",
            "-------\n",
            "| 10 |\n",
            "-------\n",
            "| 5 |\n",
            "-------\n",
            "El valor medio es: 20\n",
            "\n",
            "-------\n",
            "| 100 |\n",
            "-------\n",
            "| 80 |\n",
            "-------\n",
            "| 60 |\n",
            "-------\n",
            "| 10 |\n",
            "-------\n",
            "| 5 |\n",
            "-------\n"
          ],
          "name": "stdout"
        }
      ]
    }
  ]
}